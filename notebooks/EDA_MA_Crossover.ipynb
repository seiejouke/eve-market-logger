{
 "cells": [
  {
   "cell_type": "code",
   "execution_count": null,
   "id": "48511a80",
   "metadata": {},
   "outputs": [
    {
     "data": {
      "application/vnd.jupyter.widget-view+json": {
       "model_id": "0f151f918ead403fbb9a212be19af11b",
       "version_major": 2,
       "version_minor": 0
      },
      "text/plain": [
       "Combobox(value='', continuous_update=False, description='Item:', ensure_option=True, options=(' Tyrant Blue Sa…"
      ]
     },
     "metadata": {},
     "output_type": "display_data"
    },
    {
     "data": {
      "application/vnd.jupyter.widget-view+json": {
       "model_id": "5de68bb09e534ca7bc381ed82d29e550",
       "version_major": 2,
       "version_minor": 0
      },
      "text/plain": [
       "IntSlider(value=7, continuous_update=False, description='MA Window', max=60, min=2)"
      ]
     },
     "metadata": {},
     "output_type": "display_data"
    },
    {
     "data": {
      "application/vnd.jupyter.widget-view+json": {
       "model_id": "bb52fdaa85bf4823afcb320c9662bc4e",
       "version_major": 2,
       "version_minor": 0
      },
      "text/plain": [
       "Output()"
      ]
     },
     "metadata": {},
     "output_type": "display_data"
    }
   ],
   "source": [
    "import pandas as pd\n",
    "import matplotlib.pyplot as plt\n",
    "import ipywidgets as widgets\n",
    "from IPython.display import display, clear_output\n",
    "\n",
    "# Load your data\n",
    "df = pd.read_csv(\n",
    "    r'C:\\Users\\Jouke\\Documents\\evedata-logger\\output\\market_data_with_names_merged.csv',\n",
    "    parse_dates=['date']\n",
    ")\n",
    "item_names = sorted(df['type_name'].unique())\n",
    "item_dropdown = widgets.Combobox(\n",
    "    options=item_names,\n",
    "    placeholder='Type or select an item',\n",
    "    description='Item:',\n",
    "    ensure_option=True,\n",
    "    continuous_update=False\n",
    ")\n",
    "ma_slider = widgets.IntSlider(\n",
    "    value=7, min=2, max=60, step=1, description='MA Window', continuous_update=False\n",
    ")\n",
    "output = widgets.Output()\n",
    "display(item_dropdown, ma_slider, output)\n"
   ]
  },
  {
   "cell_type": "code",
   "execution_count": 4,
   "id": "01167203",
   "metadata": {},
   "outputs": [
    {
     "data": {
      "application/vnd.jupyter.widget-view+json": {
       "model_id": "8b8a68a02a8d447b9220d7017ba29781",
       "version_major": 2,
       "version_minor": 0
      },
      "text/plain": [
       "Output()"
      ]
     },
     "execution_count": 4,
     "metadata": {},
     "output_type": "execute_result"
    }
   ],
   "source": [
    "def plot_ma_crossover(item, ma_window):\n",
    "    with output:\n",
    "        clear_output(wait=True)\n",
    "        if not item or item not in df['type_name'].values:\n",
    "            print(\"Please select a valid item.\")\n",
    "            return\n",
    "        item_df = df[df['type_name'] == item].sort_values('date').copy()\n",
    "        item_df['MA'] = item_df['average'].rolling(window=ma_window, min_periods=1).mean()\n",
    "\n",
    "        # Buy (price crosses above MA), Sell (below MA)\n",
    "        buy_signals = (item_df['average'] > item_df['MA']) & (item_df['average'].shift(1) <= item_df['MA'].shift(1))\n",
    "        sell_signals = (item_df['average'] < item_df['MA']) & (item_df['average'].shift(1) >= item_df['MA'].shift(1))\n",
    "\n",
    "        print(f\"MA window: {ma_window} days | Buy signals: {buy_signals.sum()} | Sell signals: {sell_signals.sum()}\")\n",
    "        plt.figure(figsize=(12,6))\n",
    "        plt.plot(item_df['date'], item_df['average'], label='Price', color='blue')\n",
    "        plt.plot(item_df['date'], item_df['MA'], label=f'{ma_window}-Day MA', color='orange')\n",
    "        plt.scatter(item_df.loc[buy_signals, 'date'], item_df.loc[buy_signals, 'average'],\n",
    "                    label='Buy', marker='^', color='green', s=100)\n",
    "        plt.scatter(item_df.loc[sell_signals, 'date'], item_df.loc[sell_signals, 'average'],\n",
    "                    label='Sell', marker='v', color='red', s=100)\n",
    "        plt.title(f\"{item} — Price & {ma_window}-Day MA\\nBuy/Sell Signals Shown\")\n",
    "        plt.xlabel(\"Date\")\n",
    "        plt.ylabel(\"Average Price (ISK)\")\n",
    "        plt.legend()\n",
    "        plt.grid(True, linestyle=':')\n",
    "        plt.tight_layout()\n",
    "        plt.show()\n",
    "\n",
    "widgets.interactive_output(\n",
    "    plot_ma_crossover,\n",
    "    {'item': item_dropdown, 'ma_window': ma_slider}\n",
    ")\n"
   ]
  }
 ],
 "metadata": {
  "kernelspec": {
   "display_name": ".venv",
   "language": "python",
   "name": "python3"
  },
  "language_info": {
   "codemirror_mode": {
    "name": "ipython",
    "version": 3
   },
   "file_extension": ".py",
   "mimetype": "text/x-python",
   "name": "python",
   "nbconvert_exporter": "python",
   "pygments_lexer": "ipython3",
   "version": "3.13.5"
  }
 },
 "nbformat": 4,
 "nbformat_minor": 5
}
