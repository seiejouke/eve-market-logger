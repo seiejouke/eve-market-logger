{
 "cells": [
  {
   "cell_type": "code",
   "execution_count": 1,
   "id": "c8467f2a",
   "metadata": {},
   "outputs": [],
   "source": [
    "import pandas as pd\n",
    "import matplotlib.pyplot as plt\n",
    "import ipywidgets as widgets\n",
    "from IPython.display import display\n",
    "from sklearn.linear_model import LinearRegression\n",
    "from sklearn.metrics import mean_absolute_error, r2_score\n",
    "from ipywidgets import interact\n",
    "\n",
    "\n",
    "df = pd.read_csv(r'C:\\Users\\Jouke\\Documents\\evedata-logger\\output\\market_data_with_names_merged.csv', parse_dates=['date'])"
   ]
  },
  {
   "cell_type": "code",
   "execution_count": null,
   "id": "9f211482",
   "metadata": {},
   "outputs": [
    {
     "data": {
      "application/vnd.jupyter.widget-view+json": {
       "model_id": "7f0dec92f68e43499ef465d17c1b4702",
       "version_major": 2,
       "version_minor": 0
      },
      "text/plain": [
       "Combobox(value='', continuous_update=False, description='Item:', ensure_option=True, layout=Layout(width='400p…"
      ]
     },
     "metadata": {},
     "output_type": "display_data"
    }
   ],
   "source": [
    "# Get all unique item names\n",
    "item_names = sorted(df['type_name'].dropna().astype(str).unique())\n",
    "\n",
    "\n",
    "combobox = widgets.Combobox(\n",
    "    options=item_names,\n",
    "    placeholder='Search item',\n",
    "    description='Item:',\n",
    "    ensure_option=True,\n",
    "    continuous_update=False,\n",
    "    style={'description_width': 'initial'},\n",
    "    layout=widgets.Layout(width='400px')\n",
    ")\n",
    "\n",
    "display(combobox)\n"
   ]
  },
  {
   "cell_type": "code",
   "execution_count": null,
   "id": "bbe39182",
   "metadata": {},
   "outputs": [
    {
     "data": {
      "application/vnd.jupyter.widget-view+json": {
       "model_id": "1a9e6a393b7d468582e3db1082a6bdb5",
       "version_major": 2,
       "version_minor": 0
      },
      "text/plain": [
       "interactive(children=(Combobox(value='', continuous_update=False, description='Item:', ensure_option=True, lay…"
      ]
     },
     "metadata": {},
     "output_type": "display_data"
    },
    {
     "data": {
      "text/plain": [
       "<function __main__.predict_and_plot(selected_item)>"
      ]
     },
     "execution_count": 3,
     "metadata": {},
     "output_type": "execute_result"
    }
   ],
   "source": [
    "def predict_and_plot(selected_item):\n",
    "    # Filter for the selected item\n",
    "    df_item = df[df['type_name'] == selected_item].copy()\n",
    "    df_item = df_item.sort_values('date').reset_index(drop=True)\n",
    "    df_item['next_avg'] = df_item['average'].shift(-1)\n",
    "    df_item = df_item.dropna(subset=['next_avg'])\n",
    "\n",
    "    if len(df_item) < 10:\n",
    "        print(\"Not enough data for this item!\")\n",
    "        return\n",
    "\n",
    "    features = ['average', 'highest', 'lowest', 'volume']\n",
    "    X = df_item[features]\n",
    "    y = df_item['next_avg']\n",
    "\n",
    "    split_idx = int(len(df_item) * 0.8)\n",
    "    X_train, X_test = X.iloc[:split_idx], X.iloc[split_idx:]\n",
    "    y_train, y_test = y.iloc[:split_idx], y.iloc[split_idx:]\n",
    "\n",
    "    model = LinearRegression()\n",
    "    model.fit(X_train, y_train)\n",
    "    y_pred = model.predict(X_test)\n",
    "\n",
    "    plt.figure(figsize=(12, 6))\n",
    "    plt.plot(y_test.index, y_test, label='Actual Next Avg Price', marker='o')\n",
    "    plt.plot(y_test.index, y_pred, label='Predicted Next Avg Price', marker='x')\n",
    "    plt.xlabel('Test Set Index')\n",
    "    plt.ylabel('Average Price')\n",
    "    plt.title(f'Next Day Price Prediction: {selected_item}')\n",
    "    plt.legend()\n",
    "    plt.show()\n",
    "\n",
    "    mae = mean_absolute_error(y_test, y_pred)\n",
    "    print(f\"Mean Absolute Error for {selected_item}: {mae:.2f}\")\n",
    "\n",
    "    r2 = r2_score(y_test, y_pred)\n",
    "    print(f\"R2 Score for {selected_item}: {r2:.4f}\")\n",
    "\n",
    "    comp = pd.DataFrame({'Actual': y_test.values, 'Predicted': y_pred})\n",
    "    print(comp.head(10))\n",
    "\n",
    "# Link the combobox for interactive prediction\n",
    "interact(predict_and_plot, selected_item=combobox)\n"
   ]
  }
 ],
 "metadata": {
  "kernelspec": {
   "display_name": ".venv",
   "language": "python",
   "name": "python3"
  },
  "language_info": {
   "codemirror_mode": {
    "name": "ipython",
    "version": 3
   },
   "file_extension": ".py",
   "mimetype": "text/x-python",
   "name": "python",
   "nbconvert_exporter": "python",
   "pygments_lexer": "ipython3",
   "version": "3.13.5"
  }
 },
 "nbformat": 4,
 "nbformat_minor": 5
}
