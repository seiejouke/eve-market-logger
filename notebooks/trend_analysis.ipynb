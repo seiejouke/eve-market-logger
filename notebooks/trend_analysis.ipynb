{
 "cells": [
  {
   "cell_type": "code",
   "execution_count": 1,
   "id": "3c51a564",
   "metadata": {},
   "outputs": [],
   "source": [
    "import pandas as pd\n",
    "import matplotlib.pyplot as plt\n",
    "import ipywidgets as widgets\n",
    "from IPython.display import display, clear_output"
   ]
  },
  {
   "cell_type": "code",
   "execution_count": 2,
   "id": "7f9daae1",
   "metadata": {},
   "outputs": [],
   "source": [
    "df = pd.read_csv(r'C:\\Users\\Jouke\\Documents\\evedata-logger\\output\\market_data_with_names_merged.csv', parse_dates=['date'])"
   ]
  },
  {
   "cell_type": "code",
   "execution_count": 3,
   "id": "06e99b2d",
   "metadata": {},
   "outputs": [
    {
     "name": "stdout",
     "output_type": "stream",
     "text": [
      "<class 'pandas.core.frame.DataFrame'>\n",
      "RangeIndex: 2837845 entries, 0 to 2837844\n",
      "Data columns (total 7 columns):\n",
      " #   Column     Dtype         \n",
      "---  ------     -----         \n",
      " 0   type_id    int64         \n",
      " 1   date       datetime64[ns]\n",
      " 2   volume     int64         \n",
      " 3   average    float64       \n",
      " 4   highest    float64       \n",
      " 5   lowest     float64       \n",
      " 6   type_name  object        \n",
      "dtypes: datetime64[ns](1), float64(3), int64(2), object(1)\n",
      "memory usage: 151.6+ MB\n"
     ]
    }
   ],
   "source": [
    "df.info()"
   ]
  },
  {
   "cell_type": "code",
   "execution_count": 4,
   "id": "4f279114",
   "metadata": {},
   "outputs": [],
   "source": [
    "item_names = sorted(df['type_name'].unique())\n",
    "\n",
    "dropdown = widgets.Combobox(\n",
    "    options=item_names,\n",
    "    placeholder='Search items..',\n",
    "    description='Item:',\n",
    "    ensure_option=True,\n",
    "    continuous_update=False\n",
    ")\n",
    "\n",
    "output = widgets.Output()"
   ]
  },
  {
   "cell_type": "code",
   "execution_count": 5,
   "id": "f1241eb7",
   "metadata": {},
   "outputs": [],
   "source": [
    "def plot_trend(type_name):\n",
    "    with output:\n",
    "        item_df = df[df['type_name'] == type_name].sort_values('date')\n",
    "        if item_df.empty:\n",
    "            print(\"No data for selected item.\")\n",
    "            return\n",
    "        plt.figure(10,5)\n",
    "        plt.plot(item_df['date'], item_df['average'], alpha=0.4, label='Daily Average')\n",
    "        plt.plot(item_df['date'], item_df['average'].rolling(window=7).mean(), color='red', label='7-Day MA')\n",
    "        plt.title(f'{type_name} Average Price Over Time')\n",
    "        plt.xlabel('Date')\n",
    "        plt.ylabel('Average Price')\n",
    "        plt.legend()\n",
    "        plt.show()"
   ]
  },
  {
   "cell_type": "code",
   "execution_count": 6,
   "id": "42a44cd8",
   "metadata": {},
   "outputs": [],
   "source": [
    "def on_change(change):\n",
    "    if change['type'] == 'change' and change['name'] == 'value':\n",
    "        plot_trend(change['new'])"
   ]
  },
  {
   "cell_type": "code",
   "execution_count": 7,
   "id": "05173607",
   "metadata": {},
   "outputs": [],
   "source": [
    "dropdown.observe(on_change)"
   ]
  },
  {
   "cell_type": "code",
   "execution_count": 8,
   "id": "da98713e",
   "metadata": {},
   "outputs": [
    {
     "data": {
      "application/vnd.jupyter.widget-view+json": {
       "model_id": "adaf10d354024c2e8d34e52041d64981",
       "version_major": 2,
       "version_minor": 0
      },
      "text/plain": [
       "Combobox(value='', continuous_update=False, description='Item:', ensure_option=True, options=(' Tyrant Blue Sa…"
      ]
     },
     "metadata": {},
     "output_type": "display_data"
    },
    {
     "data": {
      "application/vnd.jupyter.widget-view+json": {
       "model_id": "05ec6962722a498495447796cf9be15a",
       "version_major": 2,
       "version_minor": 0
      },
      "text/plain": [
       "Output()"
      ]
     },
     "metadata": {},
     "output_type": "display_data"
    }
   ],
   "source": [
    "display(dropdown, output)"
   ]
  }
 ],
 "metadata": {
  "kernelspec": {
   "display_name": ".venv",
   "language": "python",
   "name": "python3"
  },
  "language_info": {
   "codemirror_mode": {
    "name": "ipython",
    "version": 3
   },
   "file_extension": ".py",
   "mimetype": "text/x-python",
   "name": "python",
   "nbconvert_exporter": "python",
   "pygments_lexer": "ipython3",
   "version": "3.13.5"
  }
 },
 "nbformat": 4,
 "nbformat_minor": 5
}
