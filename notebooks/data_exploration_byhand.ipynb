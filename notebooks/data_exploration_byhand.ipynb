{
 "cells": [
  {
   "cell_type": "code",
   "execution_count": null,
   "id": "721c2bd8",
   "metadata": {},
   "outputs": [],
   "source": [
    "import pandas as pd\n",
    "import matplotlib.pyplot as plt\n",
    "\n",
    "# Let's keep the notebook user-friendly\n",
    "from ipywidgets import interact, widgets\n",
    "from IPython.display import display, clear_output"
   ]
  },
  {
   "cell_type": "code",
   "execution_count": null,
   "id": "c1805cbf",
   "metadata": {},
   "outputs": [],
   "source": [
    "# Use forward slashes or relative path\n",
    "# df = pd.read_csv(\"../output/market_data.csv\", parse_dates=[\"date\"])\n",
    "df = pd.read_csv(\"../output/market_data_with_names_merged.csv\", parse_dates=[\"date\"])\n"
   ]
  },
  {
   "cell_type": "code",
   "execution_count": null,
   "id": "f131188d",
   "metadata": {},
   "outputs": [],
   "source": [
    "# Interactive search function\n",
    "def plot_item_interactive(search_term):\n",
    "    clear_output(wait=True)\n",
    "\n",
    "    matched_items = df[df[\"type_name\"].str.contains(search_term, case=False, na=False)][\"type_name\"].unique()\n",
    "\n",
    "    if len(matched_items) == 0:\n",
    "        print(f\"❌ No match found for '{search_term}'\")\n",
    "        return\n",
    "\n",
    "    item = matched_items[0]\n",
    "    item_df = df[df[\"type_name\"] == item]\n",
    "\n",
    "    plt.figure(figsize=(10, 4))\n",
    "    item_df.groupby(\"date\")[\"average\"].mean().plot()\n",
    "    plt.title(f\"{item} - Average Price Over Time\")\n",
    "    plt.xlabel(\"Date\")\n",
    "    plt.ylabel(\"Average Price\")\n",
    "    plt.grid(True)\n",
    "    plt.tight_layout()\n",
    "    plt.show()\n",
    "\n",
    "    print(f\"✅ Showing: {item}\")"
   ]
  },
  {
   "cell_type": "code",
   "execution_count": null,
   "id": "78ab2c20",
   "metadata": {},
   "outputs": [],
   "source": [
    "# Create a text box widget\n",
    "search_box = widgets.Text(\n",
    "    value='hydrogen',\n",
    "    placeholder='Type part of an item name...',\n",
    "    description='Search:',\n",
    "    disabled=False\n",
    ")\n",
    "\n",
    "# Bind the widget to the function\n",
    "interact(plot_item_interactive, search_term=search_box)"
   ]
  }
 ],
 "metadata": {
  "kernelspec": {
   "display_name": ".venv",
   "language": "python",
   "name": "python3"
  },
  "language_info": {
   "codemirror_mode": {
    "name": "ipython",
    "version": 3
   },
   "file_extension": ".py",
   "mimetype": "text/x-python",
   "name": "python",
   "nbconvert_exporter": "python",
   "pygments_lexer": "ipython3",
   "version": "3.13.5"
  }
 },
 "nbformat": 4,
 "nbformat_minor": 5
}
