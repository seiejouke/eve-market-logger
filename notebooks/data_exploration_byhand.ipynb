{
 "cells": [
  {
   "cell_type": "code",
   "execution_count": 9,
   "id": "721c2bd8",
   "metadata": {},
   "outputs": [],
   "source": [
    "import pandas as pd\n",
    "import matplotlib.pyplot as plt"
   ]
  },
  {
   "cell_type": "code",
   "execution_count": 10,
   "id": "c1805cbf",
   "metadata": {},
   "outputs": [],
   "source": [
    "import pandas as pd\n",
    "\n",
    "# Use forward slashes or relative path\n",
    "df = pd.read_csv(\"../output/market_data.csv\", parse_dates=[\"date\"])\n"
   ]
  },
  {
   "cell_type": "code",
   "execution_count": 11,
   "id": "a47122ae",
   "metadata": {},
   "outputs": [
    {
     "name": "stdout",
     "output_type": "stream",
     "text": [
      "         count          mean           std           min           25%  \\\n",
      "type_id                                                                  \n",
      "34       421.0  5.248092e+09  1.486640e+09  2.543013e+09  4.254090e+09   \n",
      "35       421.0  2.689239e+09  8.446213e+08  1.187854e+09  2.096502e+09   \n",
      "62516    421.0  8.147099e+08  4.458404e+08  1.348625e+08  5.313579e+08   \n",
      "62517    421.0  6.689936e+08  3.910091e+08  1.203370e+08  4.302997e+08   \n",
      "36       421.0  6.301936e+08  1.872215e+08  3.085354e+08  5.104487e+08   \n",
      "\n",
      "                  50%           75%           max  \n",
      "type_id                                            \n",
      "34       4.976272e+09  5.980956e+09  1.393922e+10  \n",
      "35       2.561485e+09  3.103250e+09  8.206543e+09  \n",
      "62516    7.461415e+08  9.924697e+08  5.568493e+09  \n",
      "62517    6.122395e+08  8.021623e+08  5.609057e+09  \n",
      "36       5.924278e+08  7.117180e+08  2.033398e+09  \n"
     ]
    }
   ],
   "source": [
    "daily_volume = df.groupby([\"date\", \"type_id\"])[\"volume\"].sum().reset_index()\n",
    "volume_summary = daily_volume.groupby(\"type_id\")[\"volume\"].describe().sort_values(\"mean\", ascending=False)\n",
    "print(volume_summary.head())\n"
   ]
  },
  {
   "cell_type": "code",
   "execution_count": null,
   "id": "16e782d6",
   "metadata": {},
   "outputs": [],
   "source": [
    "print(df.describe())"
   ]
  }
 ],
 "metadata": {
  "kernelspec": {
   "display_name": ".venv",
   "language": "python",
   "name": "python3"
  },
  "language_info": {
   "codemirror_mode": {
    "name": "ipython",
    "version": 3
   },
   "file_extension": ".py",
   "mimetype": "text/x-python",
   "name": "python",
   "nbconvert_exporter": "python",
   "pygments_lexer": "ipython3",
   "version": "3.13.5"
  }
 },
 "nbformat": 4,
 "nbformat_minor": 5
}
