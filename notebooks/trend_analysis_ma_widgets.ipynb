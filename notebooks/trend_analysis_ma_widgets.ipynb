{
 "cells": [
  {
   "cell_type": "code",
   "execution_count": null,
   "id": "f72afa00",
   "metadata": {},
   "outputs": [],
   "source": [
    "import pandas as pd\n",
    "import matplotlib.pyplot as plt\n",
    "import ipywidgets as widgets\n",
    "from IPython.display import display, clear_output"
   ]
  },
  {
   "cell_type": "code",
   "execution_count": null,
   "id": "70ca3790",
   "metadata": {},
   "outputs": [],
   "source": [
    "df = pd.read_csv(r'C:\\Users\\Jouke\\Documents\\evedata-logger\\output\\market_data_with_names_merged.csv', parse_dates=['date'])"
   ]
  },
  {
   "cell_type": "code",
   "execution_count": null,
   "id": "83cee45f",
   "metadata": {},
   "outputs": [],
   "source": [
    "item_names = sorted(df['type_name'].unique())"
   ]
  },
  {
   "cell_type": "code",
   "execution_count": null,
   "id": "1cde11bb",
   "metadata": {},
   "outputs": [],
   "source": [
    "dropdown = widgets.Combobox(\n",
    "    options=item_names,\n",
    "    placeholder='Search item',\n",
    "    description='Item:',\n",
    "    ensure_option=True,\n",
    "    continuous_update=False\n",
    ")"
   ]
  },
  {
   "cell_type": "code",
   "execution_count": null,
   "id": "604e456d",
   "metadata": {},
   "outputs": [],
   "source": [
    "ma_slider = widgets.IntSlider(\n",
    "    value=7,\n",
    "    min=1,\n",
    "    max=30,\n",
    "    step=1,\n",
    "    description='MA Window',\n",
    "    continuous_update=False\n",
    ")"
   ]
  },
  {
   "cell_type": "code",
   "execution_count": null,
   "id": "54e189e6",
   "metadata": {},
   "outputs": [],
   "source": [
    "days_slider = widgets.IntSlider(\n",
    "    value=365,\n",
    "    min=1,\n",
    "    max=len(df['date'].unique()),\n",
    "    step=1,\n",
    "    description='Days Shown',\n",
    "    continuous_update=False\n",
    ")"
   ]
  },
  {
   "cell_type": "code",
   "execution_count": 33,
   "id": "aacbe3cd",
   "metadata": {},
   "outputs": [],
   "source": [
    "donchian_slider = widgets.IntSlider(\n",
    "    value=20,\n",
    "    min=5,\n",
    "    max=90,\n",
    "    step=1,\n",
    "    description='Donchian Window',\n",
    "    continuous_update=False\n",
    ")"
   ]
  },
  {
   "cell_type": "code",
   "execution_count": null,
   "id": "34c64ead",
   "metadata": {},
   "outputs": [],
   "source": [
    "output = widgets.Output()"
   ]
  },
  {
   "cell_type": "code",
   "execution_count": null,
   "id": "7eeef3b2",
   "metadata": {},
   "outputs": [
    {
     "ename": "ValueError",
     "evalue": "cannot find widget or abbreviation for argument: 'donchian_window'",
     "output_type": "error",
     "traceback": [
      "\u001b[31m---------------------------------------------------------------------------\u001b[39m",
      "\u001b[31mValueError\u001b[39m                                Traceback (most recent call last)",
      "\u001b[36mCell\u001b[39m\u001b[36m \u001b[39m\u001b[32mIn[34]\u001b[39m\u001b[32m, line 32\u001b[39m\n\u001b[32m     29\u001b[39m         plt.tight_layout()\n\u001b[32m     30\u001b[39m         plt.show()\n\u001b[32m---> \u001b[39m\u001b[32m32\u001b[39m interactive_plot = \u001b[43mwidgets\u001b[49m\u001b[43m.\u001b[49m\u001b[43minteractive\u001b[49m\u001b[43m(\u001b[49m\n\u001b[32m     33\u001b[39m \u001b[43m    \u001b[49m\u001b[43mplot_trend\u001b[49m\u001b[43m,\u001b[49m\n\u001b[32m     34\u001b[39m \u001b[43m    \u001b[49m\u001b[43mtype_name\u001b[49m\u001b[43m=\u001b[49m\u001b[43mdropdown\u001b[49m\u001b[43m,\u001b[49m\n\u001b[32m     35\u001b[39m \u001b[43m    \u001b[49m\u001b[43mma_window\u001b[49m\u001b[43m=\u001b[49m\u001b[43mma_slider\u001b[49m\u001b[43m,\u001b[49m\n\u001b[32m     36\u001b[39m \u001b[43m    \u001b[49m\u001b[43mdays_shown\u001b[49m\u001b[43m=\u001b[49m\u001b[43mdays_slider\u001b[49m\n\u001b[32m     37\u001b[39m \u001b[43m)\u001b[49m\n\u001b[32m     39\u001b[39m display(interactive_plot, output)\n",
      "\u001b[36mFile \u001b[39m\u001b[32mc:\\Users\\Jouke\\Documents\\evedata-logger\\.venv\\Lib\\site-packages\\ipywidgets\\widgets\\interaction.py:175\u001b[39m, in \u001b[36minteractive.__init__\u001b[39m\u001b[34m(self, _interactive__interact_f, _interactive__options, **kwargs)\u001b[39m\n\u001b[32m    172\u001b[39m \u001b[38;5;28mself\u001b[39m.manual_name = __options.get(\u001b[33m\"\u001b[39m\u001b[33mmanual_name\u001b[39m\u001b[33m\"\u001b[39m, \u001b[33m\"\u001b[39m\u001b[33mRun Interact\u001b[39m\u001b[33m\"\u001b[39m)\n\u001b[32m    173\u001b[39m \u001b[38;5;28mself\u001b[39m.auto_display = __options.get(\u001b[33m\"\u001b[39m\u001b[33mauto_display\u001b[39m\u001b[33m\"\u001b[39m, \u001b[38;5;28;01mFalse\u001b[39;00m)\n\u001b[32m--> \u001b[39m\u001b[32m175\u001b[39m new_kwargs = \u001b[38;5;28;43mself\u001b[39;49m\u001b[43m.\u001b[49m\u001b[43mfind_abbreviations\u001b[49m\u001b[43m(\u001b[49m\u001b[43mkwargs\u001b[49m\u001b[43m)\u001b[49m\n\u001b[32m    176\u001b[39m \u001b[38;5;66;03m# Before we proceed, let's make sure that the user has passed a set of args+kwargs\u001b[39;00m\n\u001b[32m    177\u001b[39m \u001b[38;5;66;03m# that will lead to a valid call of the function. This protects against unspecified\u001b[39;00m\n\u001b[32m    178\u001b[39m \u001b[38;5;66;03m# and doubly-specified arguments.\u001b[39;00m\n\u001b[32m    179\u001b[39m \u001b[38;5;28;01mtry\u001b[39;00m:\n",
      "\u001b[36mFile \u001b[39m\u001b[32mc:\\Users\\Jouke\\Documents\\evedata-logger\\.venv\\Lib\\site-packages\\ipywidgets\\widgets\\interaction.py:275\u001b[39m, in \u001b[36minteractive.find_abbreviations\u001b[39m\u001b[34m(self, kwargs)\u001b[39m\n\u001b[32m    273\u001b[39m     \u001b[38;5;28;01mfor\u001b[39;00m name, value, default \u001b[38;5;129;01min\u001b[39;00m _yield_abbreviations_for_parameter(param, kwargs):\n\u001b[32m    274\u001b[39m         \u001b[38;5;28;01mif\u001b[39;00m value \u001b[38;5;129;01mis\u001b[39;00m empty:\n\u001b[32m--> \u001b[39m\u001b[32m275\u001b[39m             \u001b[38;5;28;01mraise\u001b[39;00m \u001b[38;5;167;01mValueError\u001b[39;00m(\u001b[33m'\u001b[39m\u001b[33mcannot find widget or abbreviation for argument: \u001b[39m\u001b[38;5;132;01m{!r}\u001b[39;00m\u001b[33m'\u001b[39m.format(name))\n\u001b[32m    276\u001b[39m         new_kwargs.append((name, value, default))\n\u001b[32m    277\u001b[39m \u001b[38;5;28;01mreturn\u001b[39;00m new_kwargs\n",
      "\u001b[31mValueError\u001b[39m: cannot find widget or abbreviation for argument: 'donchian_window'"
     ]
    }
   ],
   "source": [
    "def plot_trend(type_name, ma_window, days_shown, donchian_window):\n",
    "    with output:\n",
    "        clear_output(wait=True)\n",
    "        item_df = df[df['type_name'] == type_name].sort_values('date')\n",
    "        if item_df.empty:\n",
    "            print(\"No data for selected item.\")\n",
    "            return\n",
    "        item_df = item_df.iloc[-days_shown:]\n",
    "\n",
    "        # Calculate Donchian Channel\n",
    "        donchian_high = item_df['highest'].rolling(window=donchian_window).max()\n",
    "        donchian_low = item_df['lowest'].rolling(window=donchian_window).min()\n",
    "\n",
    "        fig, ax1 = plt.subplots(figsize=(10, 5))\n",
    "\n",
    "        # Donchian Channel fill\n",
    "        ax1.fill_between(item_df['date'], donchian_low, donchian_high, color='cyan', alpha=0.1, label=f'Donchian {donchian_window}')\n",
    "\n",
    "        # Daily average and MA\n",
    "        ax1.plot(item_df['date'], item_df['average'], alpha=0.4, label='Daily Average', color='blue')\n",
    "        ax1.plot(item_df['date'], item_df['average'].rolling(window=ma_window).mean(), color='red', label=f'{ma_window}-Day MA')\n",
    "\n",
    "        # Donchian Channel upper/lower\n",
    "        ax1.plot(item_df['date'], donchian_high, color='cyan', linestyle='--', label='Donchian High')\n",
    "        ax1.plot(item_df['date'], donchian_low, color='deepskyblue', linestyle='--', label='Donchian Low')\n",
    "\n",
    "        ax1.set_xlabel('Date')\n",
    "        ax1.set_ylabel('Average Price (ISK)', color='blue')\n",
    "        ax1.tick_params(axis='y', labelcolor='blue')\n",
    "\n",
    "        # Volume bars\n",
    "        ax2 = ax1.twinx()\n",
    "        ax2.bar(item_df['date'], item_df['volume'], width=1.0, color='gray', alpha=0.3, label='Daily Volume')\n",
    "        ax2.set_ylabel('Volume', color='gray')\n",
    "        ax2.tick_params(axis='y', labelcolor='gray')\n",
    "\n",
    "        # Legends\n",
    "        lines, labels = ax1.get_legend_handles_labels()\n",
    "        lines2, labels2 = ax2.get_legend_handles_labels()\n",
    "        ax1.legend(lines + lines2, labels + labels2, loc='upper left')\n",
    "\n",
    "        plt.title(f'{type_name} Price, Donchian Channel, & Volume\\nLast {days_shown} Days')\n",
    "        plt.tight_layout()\n",
    "        plt.show()\n",
    "\n",
    "interactive_plot = widgets.interactive(\n",
    "    plot_trend,\n",
    "    type_name=dropdown,\n",
    "    ma_window=ma_slider,\n",
    "    days_shown=days_slider,\n",
    "    donchian_window=donchian_slider\n",
    ")\n",
    "\n",
    "display(interactive_plot, output)\n",
    "\n",
    "\n"
   ]
  }
 ],
 "metadata": {
  "kernelspec": {
   "display_name": ".venv",
   "language": "python",
   "name": "python3"
  },
  "language_info": {
   "codemirror_mode": {
    "name": "ipython",
    "version": 3
   },
   "file_extension": ".py",
   "mimetype": "text/x-python",
   "name": "python",
   "nbconvert_exporter": "python",
   "pygments_lexer": "ipython3",
   "version": "3.13.5"
  }
 },
 "nbformat": 4,
 "nbformat_minor": 5
}
