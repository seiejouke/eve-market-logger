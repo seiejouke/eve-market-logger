{
 "cells": [
  {
   "cell_type": "code",
   "execution_count": 1,
   "id": "f72afa00",
   "metadata": {},
   "outputs": [],
   "source": [
    "import pandas as pd\n",
    "import matplotlib.pyplot as plt\n",
    "import ipywidgets as widgets\n",
    "from IPython.display import display, clear_output"
   ]
  },
  {
   "cell_type": "code",
   "execution_count": 2,
   "id": "70ca3790",
   "metadata": {},
   "outputs": [],
   "source": [
    "df = pd.read_csv(r'C:\\Users\\Jouke\\Documents\\evedata-logger\\output\\market_data_with_names_merged.csv', parse_dates=['date'])"
   ]
  },
  {
   "cell_type": "code",
   "execution_count": 3,
   "id": "83cee45f",
   "metadata": {},
   "outputs": [],
   "source": [
    "item_names = sorted(df['type_name'].unique())"
   ]
  },
  {
   "cell_type": "code",
   "execution_count": 4,
   "id": "1cde11bb",
   "metadata": {},
   "outputs": [],
   "source": [
    "dropdown = widgets.Combobox(\n",
    "    options=item_names,\n",
    "    placeholder='Search item',\n",
    "    description='Item:',\n",
    "    ensure_option=True,\n",
    "    continuous_update=False\n",
    ")"
   ]
  },
  {
   "cell_type": "code",
   "execution_count": 5,
   "id": "604e456d",
   "metadata": {},
   "outputs": [],
   "source": [
    "ma_slider = widgets.IntSlider(\n",
    "    value=7,\n",
    "    min=1,\n",
    "    max=30,\n",
    "    step=1,\n",
    "    description='MA Window',\n",
    "    continuous_update=False\n",
    ")\n",
    "\n",
    "days_slider = widgets.IntSlider(\n",
    "    value=365,\n",
    "    min=1,\n",
    "    max=len(df['date'].unique()),\n",
    "    step=1,\n",
    "    description='Days Shown',\n",
    "    continuous_update=False\n",
    ")\n",
    "\n",
    "donchian_slider = widgets.IntSlider(\n",
    "    value=20,\n",
    "    min=5,\n",
    "    max=90,\n",
    "    step=1,\n",
    "    description='Donchian Window',\n",
    "    continuous_update=False\n",
    ")\n",
    "\n",
    "checkboxes = {\n",
    "    \"ma\": widgets.Checkbox(value=True, description='Show MA', indent=False),\n",
    "    \"donchian\": widgets.Checkbox(value=True, description='Show Donchian Channel', indent=False),\n",
    "    \"volume\": widgets.Checkbox(value=True, description='Show Volume', indent=False)\n",
    "}\n",
    "\n",
    "output = widgets.Output()"
   ]
  },
  {
   "cell_type": "code",
   "execution_count": 6,
   "id": "7eeef3b2",
   "metadata": {},
   "outputs": [
    {
     "data": {
      "application/vnd.jupyter.widget-view+json": {
       "model_id": "3e80538a238b40178e38d71bc3385b10",
       "version_major": 2,
       "version_minor": 0
      },
      "text/plain": [
       "VBox(children=(Combobox(value='', continuous_update=False, description='Item:', ensure_option=True, options=('…"
      ]
     },
     "metadata": {},
     "output_type": "display_data"
    },
    {
     "data": {
      "application/vnd.jupyter.widget-view+json": {
       "model_id": "8eb6f351c6a047bd81daf940da598452",
       "version_major": 2,
       "version_minor": 0
      },
      "text/plain": [
       "Output()"
      ]
     },
     "metadata": {},
     "output_type": "display_data"
    }
   ],
   "source": [
    "def plot_trend(type_name, ma_window, days_shown, donchian_window, ma, donchian, volume):\n",
    "    with output:\n",
    "        clear_output(wait=True)\n",
    "        item_df = df[df['type_name'] == type_name].sort_values('date')\n",
    "        if item_df.empty:\n",
    "            print(\"No data for selected item.\")\n",
    "            return\n",
    "        item_df = item_df.iloc[-days_shown:]\n",
    "\n",
    "        fig, ax1 = plt.subplots(figsize=(10, 5))\n",
    "\n",
    "        # Donchian Channel\n",
    "        if donchian:\n",
    "            donchian_high = item_df['highest'].rolling(window=donchian_window).max()\n",
    "            donchian_low = item_df['lowest'].rolling(window=donchian_window).min()\n",
    "            ax1.fill_between(item_df['date'], donchian_low, donchian_high, color='cyan', alpha=0.1, label=f'Donchian {donchian_window}')\n",
    "            ax1.plot(item_df['date'], donchian_high, color='cyan', linestyle='--', label='Donchian High')\n",
    "            ax1.plot(item_df['date'], donchian_low, color='deepskyblue', linestyle='--', label='Donchian Low')\n",
    "\n",
    "        # Daily average\n",
    "        ax1.plot(item_df['date'], item_df['average'], alpha=0.4, label='Daily Average', color='blue')\n",
    "\n",
    "        # Moving Average\n",
    "        if ma:\n",
    "            ax1.plot(item_df['date'], item_df['average'].rolling(window=ma_window).mean(), color='red', label=f'{ma_window}-Day MA')\n",
    "\n",
    "        ax1.set_xlabel('Date')\n",
    "        ax1.set_ylabel('Average Price (ISK)', color='blue')\n",
    "        ax1.tick_params(axis='y', labelcolor='blue')\n",
    "\n",
    "        # Volume bars\n",
    "        if volume:\n",
    "            ax2 = ax1.twinx()\n",
    "            ax2.bar(item_df['date'], item_df['volume'], width=1.0, color='gray', alpha=0.3, label='Daily Volume')\n",
    "            ax2.set_ylabel('Volume', color='gray')\n",
    "            ax2.tick_params(axis='y', labelcolor='gray')\n",
    "\n",
    "            lines, labels = ax1.get_legend_handles_labels()\n",
    "            lines2, labels2 = ax2.get_legend_handles_labels()\n",
    "            ax1.legend(lines + lines2, labels + labels2, loc='upper left')\n",
    "        else:\n",
    "            ax1.legend(loc='upper left')\n",
    "\n",
    "        plt.title(f'{type_name} Price, Donchian Channel, & Volume\\nLast {days_shown} Days')\n",
    "        plt.tight_layout()\n",
    "        plt.show()\n",
    "        plt.close(fig)      # <-- This is essential\n",
    "\n",
    "        return None         # <-- Explicitly return nothing\n",
    "\n",
    "\n",
    "# Group controls for a tidy UI\n",
    "controls = widgets.VBox([\n",
    "    dropdown,\n",
    "    widgets.HBox([ma_slider, donchian_slider, days_slider]),\n",
    "    widgets.HBox([checkboxes[\"ma\"], checkboxes[\"donchian\"], checkboxes[\"volume\"]])\n",
    "])\n",
    "\n",
    "interactive_plot = widgets.interactive_output(\n",
    "    plot_trend, {\n",
    "        'type_name': dropdown,\n",
    "        'ma_window': ma_slider,\n",
    "        'days_shown': days_slider,\n",
    "        'donchian_window': donchian_slider,\n",
    "        'ma': checkboxes[\"ma\"],\n",
    "        'donchian': checkboxes[\"donchian\"],\n",
    "        'volume': checkboxes[\"volume\"]\n",
    "    }\n",
    ")\n",
    "\n",
    "display(controls, output)\n",
    "\n"
   ]
  }
 ],
 "metadata": {
  "kernelspec": {
   "display_name": ".venv",
   "language": "python",
   "name": "python3"
  },
  "language_info": {
   "codemirror_mode": {
    "name": "ipython",
    "version": 3
   },
   "file_extension": ".py",
   "mimetype": "text/x-python",
   "name": "python",
   "nbconvert_exporter": "python",
   "pygments_lexer": "ipython3",
   "version": "3.13.5"
  }
 },
 "nbformat": 4,
 "nbformat_minor": 5
}
