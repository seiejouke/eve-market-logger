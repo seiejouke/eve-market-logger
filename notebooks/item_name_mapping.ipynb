{
 "cells": [
  {
   "cell_type": "code",
   "execution_count": null,
   "id": "ffa3e597",
   "metadata": {},
   "outputs": [],
   "source": [
    "import pandas as pd\n",
    "\n",
    "# Load your master CSV\n",
    "df = pd.read_csv(\"../output/market_data_with_names_merged.csv\")\n",
    "\n",
    "# Load a complete mapping file\n",
    "mapping = pd.read_csv(\"../output/all_item_type_ids.csv\")  # or data/invTypes.csv if you use Fuzzwork\n",
    "\n",
    "# Merge missing names\n",
    "df = df.merge(mapping, on='type_id', how='left', suffixes=('', '_map'))\n",
    "df['type_name'] = df['type_name'].combine_first(df['type_name_map'])\n",
    "df.drop(columns=['type_name_map'], inplace=True)\n",
    "\n",
    "# Check for missing names again\n",
    "missing_names = df['type_name'].isna().sum()\n",
    "print(f\"Rows still missing item names: {missing_names}\")\n",
    "\n",
    "# (Optional) Save patched version\n",
    "df.to_csv(\"output/market_data_with_names_merged.csv\", index=False)\n"
   ]
  },
  {
   "cell_type": "code",
   "execution_count": 6,
   "id": "5b7f8d50",
   "metadata": {},
   "outputs": [
    {
     "name": "stdout",
     "output_type": "stream",
     "text": [
      "['average', 'date', 'highest', 'lowest', 'order_count', 'volume', 'type_id', 'type_name']\n"
     ]
    }
   ],
   "source": [
    "print(df.columns.tolist())\n"
   ]
  }
 ],
 "metadata": {
  "kernelspec": {
   "display_name": ".venv",
   "language": "python",
   "name": "python3"
  },
  "language_info": {
   "codemirror_mode": {
    "name": "ipython",
    "version": 3
   },
   "file_extension": ".py",
   "mimetype": "text/x-python",
   "name": "python",
   "nbconvert_exporter": "python",
   "pygments_lexer": "ipython3",
   "version": "3.13.5"
  }
 },
 "nbformat": 4,
 "nbformat_minor": 5
}
