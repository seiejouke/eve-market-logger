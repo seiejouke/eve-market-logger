{
 "cells": [
  {
   "cell_type": "code",
   "execution_count": 22,
   "id": "233d5b1e",
   "metadata": {},
   "outputs": [],
   "source": [
    "import pandas as pd\n",
    "import matplotlib.pyplot as plt\n",
    "import ipywidgets as widgets\n",
    "from IPython.display import display, clear_output"
   ]
  },
  {
   "cell_type": "code",
   "execution_count": 23,
   "id": "d60072ab",
   "metadata": {},
   "outputs": [],
   "source": [
    "df = pd.read_csv(r'C:\\Users\\Jouke\\Documents\\evedata-logger\\output\\market_data_with_names_merged.csv', parse_dates=['date'])"
   ]
  },
  {
   "cell_type": "code",
   "execution_count": null,
   "id": "75ab2cde",
   "metadata": {},
   "outputs": [],
   "source": [
    "item_names = sorted(df['type_name'].unique())\n",
    "\n",
    "dropdown = widgets.Combobox(\n",
    "    options=item_names,\n",
    "    placeholder='Search items..',\n",
    "    description='Item:',\n",
    "    ensure_option=True,\n",
    "    continuous_update=False\n",
    ")\n",
    "\n",
    "output = widgets.Output()"
   ]
  },
  {
   "cell_type": "code",
   "execution_count": 25,
   "id": "c4d26c58",
   "metadata": {},
   "outputs": [],
   "source": [
    "def plot_trend(type_name):\n",
    "    with output:\n",
    "        clear_output(wait=True)\n",
    "        item_df = df[df['type_name'] == type_name].sort_values('date')\n",
    "        if item_df.empty:\n",
    "            print(\"No data for selected item.\")\n",
    "            return\n",
    "\n",
    "        fig, ax1 = plt.subplots(figsize=(10, 5))\n",
    "        \n",
    "        # Plot average price and 7-day MA on left Y-axis\n",
    "        ax1.plot(item_df['date'], item_df['average'], alpha=0.4, label='Daily Average', color='blue')\n",
    "        ax1.plot(item_df['date'], item_df['average'].rolling(window=7).mean(), color='red', label='7-Day MA')\n",
    "        ax1.set_xlabel('Date')\n",
    "        ax1.set_ylabel('Average Price (ISK)', color='blue')\n",
    "        ax1.tick_params(axis='y', labelcolor='blue')\n",
    "        \n",
    "        # Plot volume as bars on right Y-axis\n",
    "        ax2 = ax1.twinx()\n",
    "        ax2.bar(item_df['date'], item_df['volume'], width=1.0, color='#66ffff', alpha=0.3, label='Daily Volume')\n",
    "        ax2.set_ylabel('Volume', color=\"#000000\")\n",
    "        ax2.tick_params(axis='y', labelcolor=\"#000000\")\n",
    "\n",
    "        # Combine legends\n",
    "        lines, labels = ax1.get_legend_handles_labels()\n",
    "        lines2, labels2 = ax2.get_legend_handles_labels()\n",
    "        ax1.legend(lines + lines2, labels + labels2, loc='upper left')\n",
    "\n",
    "        plt.title(f'{type_name} Price & Volume Over Time')\n",
    "        plt.tight_layout()\n",
    "        plt.show()\n"
   ]
  },
  {
   "cell_type": "code",
   "execution_count": 26,
   "id": "d45edc2a",
   "metadata": {},
   "outputs": [],
   "source": [
    "def on_change(change):\n",
    "    if change['type'] == 'change' and change['name'] == 'value':\n",
    "        plot_trend(change['new'])"
   ]
  },
  {
   "cell_type": "code",
   "execution_count": 27,
   "id": "2ce8319d",
   "metadata": {},
   "outputs": [],
   "source": [
    "dropdown.observe(on_change)"
   ]
  },
  {
   "cell_type": "code",
   "execution_count": 28,
   "id": "a0d1f89b",
   "metadata": {},
   "outputs": [
    {
     "data": {
      "application/vnd.jupyter.widget-view+json": {
       "model_id": "475cd84b977e4dbdb62dd397d05cc065",
       "version_major": 2,
       "version_minor": 0
      },
      "text/plain": [
       "Combobox(value='', continuous_update=False, description='Item:', ensure_option=True, options=(' Tyrant Blue Sa…"
      ]
     },
     "metadata": {},
     "output_type": "display_data"
    },
    {
     "data": {
      "application/vnd.jupyter.widget-view+json": {
       "model_id": "f4954858676f42a4b1de44b9b081e69d",
       "version_major": 2,
       "version_minor": 0
      },
      "text/plain": [
       "Output()"
      ]
     },
     "metadata": {},
     "output_type": "display_data"
    }
   ],
   "source": [
    "display(dropdown, output)"
   ]
  }
 ],
 "metadata": {
  "kernelspec": {
   "display_name": ".venv",
   "language": "python",
   "name": "python3"
  },
  "language_info": {
   "codemirror_mode": {
    "name": "ipython",
    "version": 3
   },
   "file_extension": ".py",
   "mimetype": "text/x-python",
   "name": "python",
   "nbconvert_exporter": "python",
   "pygments_lexer": "ipython3",
   "version": "3.13.5"
  }
 },
 "nbformat": 4,
 "nbformat_minor": 5
}
