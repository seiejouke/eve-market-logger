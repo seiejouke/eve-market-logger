{
 "cells": [
  {
   "cell_type": "code",
   "execution_count": null,
   "id": "d5d8103c",
   "metadata": {},
   "outputs": [],
   "source": [
    "#| **Liquidity** | **Volatility** | **Weather Metaphor** | **Typical Action**                   | **Notes/Rationale**                         |\n",
    "#| :-----------: | :------------: | :------------------: | :----------------------------------- | :------------------------------------------ |\n",
    "#|      High     |       Low      |      Clear Skies     | Float/Trade Freely (Naive Baseline)  | Safe to follow the trend/sentiment          |\n",
    "#|      High     |    Moderate    |     Cloudy, Gusty    | Be Alert, Reduce Leverage            | Watch for signals of possible change        |\n",
    "#|      High     |      High      |    Incoming Storm    | Exit, Hedge, Tight Risk Controls     | High risk, liquidity helps you escape       |\n",
    "#|    Moderate   |       Low      |      Calm Waters     | Hold Steady, Selective Trades        | Less activity, but stable enough            |\n",
    "#|    Moderate   |    Moderate    |      Patchy Fog      | Cautious, Smaller Positions          | Uncertainty, but not outright danger        |\n",
    "#|    Moderate   |      High      |     Choppy/Stormy    | Defensive, Reduce Exposure           | Tough to get out, high risk                 |\n",
    "#|      Low      |       Low      |       Doldrums       | No Trades, Sit Tight                 | Can’t get in or out easily, little movement |\n",
    "#|      Low      |    Moderate    |     Misty, Sticky    | Wait and Watch, Only Essential Moves | Not enough liquidity, rising risk           |\n",
    "#|      Low      |      High      |     Violent Storm    | Emergency Exit or No Trading         | Extreme risk: hard to get out, huge danger  |\n"
   ]
  },
  {
   "cell_type": "code",
   "execution_count": null,
   "id": "6484b53c",
   "metadata": {},
   "outputs": [],
   "source": [
    "#|                      | **Low Volume** | **Medium Volume** | **High Volume**     |\n",
    "#| -------------------- | -------------- | ----------------- | ------------------- |\n",
    "#| **High Liquidity**   | Clear Skies    | Breezy Trading    | Busy Shipping Lane  |\n",
    "#| **Medium Liquidity** | Light Winds    | Choppy Waters     | Swell Before Storm  |\n",
    "#| **Low Liquidity**    | Stuck/Dead     | Patchy Fog        | Dangerous Whirlpool |\n"
   ]
  },
  {
   "cell_type": "code",
   "execution_count": null,
   "id": "3c5310d5",
   "metadata": {},
   "outputs": [],
   "source": [
    "#| **Weather**         | **What It Means**                                   | **Typical EVE Example**                    | **Suggested Action**          |\n",
    "#| ------------------- | --------------------------------------------------- | ------------------------------------------ | ----------------------------- |\n",
    "#| Clear Skies         | Safe, stable, easy to get in/out, little risk       | Common minerals, Tritanium                 | Naive baseline trading        |\n",
    "#| Breezy Trading      | Slightly more active, still low risk                | Routine PLEX trades                        | Scale up slightly             |\n",
    "#| Busy Shipping Lane  | Tons of action, but very efficient                  | Large volume ships (if liquid), T1 modules | Focus, fast trades            |\n",
    "#| Light Winds         | Not much happening, but can move a bit              | Occasional PI products                     | Place and forget orders       |\n",
    "#| Choppy Waters       | Moderate risk, watch for volatility                 | Some faction modules, less-used ores       | Tighter controls              |\n",
    "#| Swell Before Storm  | High activity, but can’t always get out easily      | Event-driven trading, newly released items | Prepare for sudden changes    |\n",
    "#| Stuck/Dead          | Can’t get in or out, market is frozen               | Rare blueprints                            | Avoid trading                 |\n",
    "#| Patchy Fog          | Hard to read, orders sit, danger of getting trapped | Some deadspace/officer modules             | Only trade if you must        |\n",
    "#| Dangerous Whirlpool | Big volumes but you might not exit—very risky!      | Rare capital ships, market manipulations   | Trade only with exit strategy |\n"
   ]
  }
 ],
 "metadata": {
  "language_info": {
   "name": "python"
  }
 },
 "nbformat": 4,
 "nbformat_minor": 5
}
