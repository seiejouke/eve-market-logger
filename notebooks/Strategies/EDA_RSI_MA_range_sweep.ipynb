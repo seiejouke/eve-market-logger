{
 "cells": [
  {
   "cell_type": "code",
   "execution_count": null,
   "id": "6420f80f",
   "metadata": {},
   "outputs": [],
   "source": [
    "#| RSI Period | Use Case                  | Suggested SMA Pairing              |\n",
    "#| ---------- | ------------------------- | ---------------------------------- |\n",
    "#| 2–5        | Scalping, short-term      | SMA(5), SMA(9), SMA(10)            |\n",
    "#| 7–10       | Short swing, short trend  | SMA(10), SMA(14)                   |\n",
    "#| 14         | Standard swing, mid trend | SMA(14), SMA(20), SMA(21), SMA(50) |\n"
   ]
  }
 ],
 "metadata": {
  "language_info": {
   "name": "python"
  }
 },
 "nbformat": 4,
 "nbformat_minor": 5
}
