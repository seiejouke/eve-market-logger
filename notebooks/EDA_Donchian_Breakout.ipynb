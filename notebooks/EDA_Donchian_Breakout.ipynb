{
 "cells": [
  {
   "cell_type": "code",
   "execution_count": null,
   "id": "aa4e3c55",
   "metadata": {},
   "outputs": [
    {
     "data": {
      "application/vnd.jupyter.widget-view+json": {
       "model_id": "2ceacc8c23f64e60b35f26f714726e59",
       "version_major": 2,
       "version_minor": 0
      },
      "text/plain": [
       "Combobox(value='', continuous_update=False, description='Item:', ensure_option=True, options=(' Tyrant Blue Sa…"
      ]
     },
     "metadata": {},
     "output_type": "display_data"
    },
    {
     "data": {
      "application/vnd.jupyter.widget-view+json": {
       "model_id": "c3aedeed92a240d6b845be22ce688071",
       "version_major": 2,
       "version_minor": 0
      },
      "text/plain": [
       "IntSlider(value=20, continuous_update=False, description='Donchian Window', max=60, min=5)"
      ]
     },
     "metadata": {},
     "output_type": "display_data"
    },
    {
     "data": {
      "application/vnd.jupyter.widget-view+json": {
       "model_id": "fced229ca57f43c7b6ba581fcc1dca1a",
       "version_major": 2,
       "version_minor": 0
      },
      "text/plain": [
       "Output()"
      ]
     },
     "metadata": {},
     "output_type": "display_data"
    }
   ],
   "source": [
    "import pandas as pd\n",
    "import matplotlib.pyplot as plt\n",
    "import ipywidgets as widgets\n",
    "from IPython.display import display, clear_output\n",
    "\n",
    "# Load your data\n",
    "df = pd.read_csv(\n",
    "    r'C:\\Users\\Jouke\\Documents\\evedata-logger\\output\\market_data_with_names_merged.csv',\n",
    "    parse_dates=['date']\n",
    ")\n",
    "\n",
    "item_names = sorted(df['type_name'].unique())\n",
    "item_dropdown = widgets.Combobox(\n",
    "    options=item_names,\n",
    "    placeholder='Type or select an item',\n",
    "    description='Item:',\n",
    "    ensure_option=True,\n",
    "    continuous_update=False\n",
    ")\n",
    "donchian_slider = widgets.IntSlider(\n",
    "    value=20, min=5, max=60, step=1, description='Donchian Window', continuous_update=False\n",
    ")\n",
    "output = widgets.Output()\n",
    "display(item_dropdown, donchian_slider, output)\n"
   ]
  },
  {
   "cell_type": "code",
   "execution_count": 2,
   "id": "b4006f61",
   "metadata": {},
   "outputs": [
    {
     "data": {
      "application/vnd.jupyter.widget-view+json": {
       "model_id": "aeef308cd1e546eabd8184c92af337f6",
       "version_major": 2,
       "version_minor": 0
      },
      "text/plain": [
       "Output()"
      ]
     },
     "execution_count": 2,
     "metadata": {},
     "output_type": "execute_result"
    }
   ],
   "source": [
    "def plot_donchian_breakouts(item, donchian_window):\n",
    "    with output:\n",
    "        clear_output(wait=True)\n",
    "        if not item or item not in df['type_name'].values:\n",
    "            print(\"Please select a valid item.\")\n",
    "            return\n",
    "        item_df = df[df['type_name'] == item].sort_values('date').copy()\n",
    "\n",
    "        # Calculate Donchian upper/lower bands\n",
    "        item_df['donchian_high'] = item_df['highest'].rolling(window=donchian_window, min_periods=1).max()\n",
    "        item_df['donchian_low'] = item_df['lowest'].rolling(window=donchian_window, min_periods=1).min()\n",
    "\n",
    "        # Find breakout days\n",
    "        breakout_up = (item_df['average'] > item_df['donchian_high'].shift(1))\n",
    "        breakout_down = (item_df['average'] < item_df['donchian_low'].shift(1))\n",
    "\n",
    "        print(f\"Donchian window: {donchian_window} days | Up breakouts: {breakout_up.sum()} | Down breakouts: {breakout_down.sum()}\")\n",
    "\n",
    "        plt.figure(figsize=(12,6))\n",
    "        plt.plot(item_df['date'], item_df['average'], label='Price', color='blue')\n",
    "        plt.plot(item_df['date'], item_df['donchian_high'], label=f'Donchian High ({donchian_window})', color='deepskyblue', linestyle='--')\n",
    "        plt.plot(item_df['date'], item_df['donchian_low'], label=f'Donchian Low ({donchian_window})', color='purple', linestyle='--')\n",
    "        plt.fill_between(item_df['date'], item_df['donchian_low'], item_df['donchian_high'], color='cyan', alpha=0.12)\n",
    "        plt.scatter(item_df.loc[breakout_up, 'date'], item_df.loc[breakout_up, 'average'],\n",
    "                    label='Up Breakout', color='lime', edgecolor='k', marker='o', s=90, zorder=5)\n",
    "        plt.scatter(item_df.loc[breakout_down, 'date'], item_df.loc[breakout_down, 'average'],\n",
    "                    label='Down Breakout', color='orange', edgecolor='k', marker='o', s=90, zorder=5)\n",
    "        plt.title(f\"{item} — Donchian Channel Breakouts\\n{donchian_window}-Day Window\")\n",
    "        plt.xlabel(\"Date\")\n",
    "        plt.ylabel(\"Average Price (ISK)\")\n",
    "        plt.legend()\n",
    "        plt.grid(True, linestyle=':')\n",
    "        plt.tight_layout()\n",
    "        plt.show()\n",
    "\n",
    "widgets.interactive_output(\n",
    "    plot_donchian_breakouts,\n",
    "    {'item': item_dropdown, 'donchian_window': donchian_slider}\n",
    ")\n"
   ]
  }
 ],
 "metadata": {
  "kernelspec": {
   "display_name": ".venv",
   "language": "python",
   "name": "python3"
  },
  "language_info": {
   "codemirror_mode": {
    "name": "ipython",
    "version": 3
   },
   "file_extension": ".py",
   "mimetype": "text/x-python",
   "name": "python",
   "nbconvert_exporter": "python",
   "pygments_lexer": "ipython3",
   "version": "3.13.5"
  }
 },
 "nbformat": 4,
 "nbformat_minor": 5
}
