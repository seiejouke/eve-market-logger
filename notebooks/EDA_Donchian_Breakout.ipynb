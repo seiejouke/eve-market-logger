{
 "cells": [
  {
   "cell_type": "code",
   "execution_count": 10,
   "id": "aa4e3c55",
   "metadata": {},
   "outputs": [
    {
     "data": {
      "application/vnd.jupyter.widget-view+json": {
       "model_id": "b0dd0784a31a433d88f757205b77b715",
       "version_major": 2,
       "version_minor": 0
      },
      "text/plain": [
       "Combobox(value='', continuous_update=False, description='Item:', ensure_option=True, options=(' Tyrant Blue Sa…"
      ]
     },
     "metadata": {},
     "output_type": "display_data"
    },
    {
     "data": {
      "application/vnd.jupyter.widget-view+json": {
       "model_id": "994d4aac76b442b1b037f6ac2eb961b7",
       "version_major": 2,
       "version_minor": 0
      },
      "text/plain": [
       "IntSlider(value=20, continuous_update=False, description='Donchian Window', max=60, min=5)"
      ]
     },
     "metadata": {},
     "output_type": "display_data"
    },
    {
     "data": {
      "application/vnd.jupyter.widget-view+json": {
       "model_id": "ea00f59e78114af081264d39b6bdfb45",
       "version_major": 2,
       "version_minor": 0
      },
      "text/plain": [
       "Output()"
      ]
     },
     "metadata": {},
     "output_type": "display_data"
    }
   ],
   "source": [
    "import pandas as pd\n",
    "import matplotlib.pyplot as plt\n",
    "import ipywidgets as widgets\n",
    "from IPython.display import display, clear_output\n",
    "\n",
    "# Load your data\n",
    "df = pd.read_csv(r'C:\\Users\\Jouke\\Documents\\evedata-logger\\output\\market_data_with_names_merged.csv', parse_dates=['date'])\n",
    "\n",
    "item_names = sorted(df['type_name'].unique())\n",
    "item_dropdown = widgets.Combobox(\n",
    "    options=item_names,\n",
    "    placeholder='Type or select an item',\n",
    "    description='Item:',\n",
    "    ensure_option=True,\n",
    "    continuous_update=False\n",
    ")\n",
    "donchian_slider = widgets.IntSlider(\n",
    "    value=20, min=5, max=60, step=1, description='Donchian Window', continuous_update=False\n",
    ")\n",
    "output = widgets.Output()\n",
    "display(item_dropdown, donchian_slider, output)\n"
   ]
  },
  {
   "cell_type": "code",
   "execution_count": 11,
   "id": "b4006f61",
   "metadata": {},
   "outputs": [
    {
     "data": {
      "application/vnd.jupyter.widget-view+json": {
       "model_id": "65199e64d86d486abff3d17b0b5d3d72",
       "version_major": 2,
       "version_minor": 0
      },
      "text/plain": [
       "Output()"
      ]
     },
     "execution_count": 11,
     "metadata": {},
     "output_type": "execute_result"
    }
   ],
   "source": [
    "def plot_donchian_breakouts(item, donchian_window):\n",
    "    with output:\n",
    "        clear_output(wait=True)\n",
    "        if not item or item not in df['type_name'].values:\n",
    "            print(\"Please select a valid item.\")\n",
    "            return\n",
    "        item_df = df[df['type_name'] == item].sort_values('date').copy()\n",
    "\n",
    "        # Calculate Donchian upper/lower bands\n",
    "        item_df['donchian_high'] = item_df['highest'].rolling(window=donchian_window, min_periods=1).max()\n",
    "        item_df['donchian_low'] = item_df['lowest'].rolling(window=donchian_window, min_periods=1).min()\n",
    "\n",
    "        # Find breakout days\n",
    "        breakout_up = (item_df['average'] > item_df['donchian_high'].shift(1))\n",
    "        breakout_down = (item_df['average'] < item_df['donchian_low'].shift(1))\n",
    "\n",
    "        print(f\"Donchian window: {donchian_window} days | Up breakouts: {breakout_up.sum()} | Down breakouts: {breakout_down.sum()}\")\n",
    "\n",
    "        plt.figure(figsize=(12,6))\n",
    "        plt.plot(item_df['date'], item_df['average'], label='Price', color='blue')\n",
    "        plt.plot(item_df['date'], item_df['donchian_high'], label=f'Donchian High ({donchian_window})', color='deepskyblue', linestyle='--')\n",
    "        plt.plot(item_df['date'], item_df['donchian_low'], label=f'Donchian Low ({donchian_window})', color='purple', linestyle='--')\n",
    "        plt.fill_between(item_df['date'], item_df['donchian_low'], item_df['donchian_high'], color='cyan', alpha=0.12)\n",
    "        plt.scatter(item_df.loc[breakout_up, 'date'], item_df.loc[breakout_up, 'average'],\n",
    "                    label='Up Breakout', color='lime', edgecolor='k', marker='o', s=90, zorder=5)\n",
    "        plt.scatter(item_df.loc[breakout_down, 'date'], item_df.loc[breakout_down, 'average'],\n",
    "                    label='Down Breakout', color='orange', edgecolor='k', marker='o', s=90, zorder=5)\n",
    "        plt.title(f\"{item} — Donchian Channel Breakouts\\n{donchian_window}-Day Window\")\n",
    "        plt.xlabel(\"Date\")\n",
    "        plt.ylabel(\"Average Price (ISK)\")\n",
    "        plt.legend()\n",
    "        plt.grid(True, linestyle=':')\n",
    "        plt.tight_layout()\n",
    "        plt.show()\n",
    "\n",
    "widgets.interactive_output(\n",
    "    plot_donchian_breakouts,\n",
    "    {'item': item_dropdown, 'donchian_window': donchian_slider}\n",
    ")\n"
   ]
  },
  {
   "cell_type": "code",
   "execution_count": 12,
   "id": "159491ed",
   "metadata": {},
   "outputs": [
    {
     "data": {
      "text/markdown": [
       "**Please select a valid item.**"
      ],
      "text/plain": [
       "<IPython.core.display.Markdown object>"
      ]
     },
     "metadata": {},
     "output_type": "display_data"
    }
   ],
   "source": [
    "from IPython.display import Markdown as md, display\n",
    "\n",
    "def summarize_donchian_breakouts(item, donchian_window):\n",
    "    if not item or item not in df['type_name'].values:\n",
    "        display(md(\"**Please select a valid item.**\"))\n",
    "        return\n",
    "    item_df = df[df['type_name'] == item].sort_values('date').copy()\n",
    "    item_df['donchian_high'] = item_df['highest'].rolling(window=donchian_window, min_periods=1).max()\n",
    "    item_df['donchian_low'] = item_df['lowest'].rolling(window=donchian_window, min_periods=1).min()\n",
    "    breakout_up = (item_df['average'] > item_df['donchian_high'].shift(1))\n",
    "    breakout_down = (item_df['average'] < item_df['donchian_low'].shift(1))\n",
    "    n_up = breakout_up.sum()\n",
    "    n_down = breakout_down.sum()\n",
    "    recent = \"\"\n",
    "    if len(item_df) > 0:\n",
    "        if breakout_up.iloc[-1]:\n",
    "            recent = f\"- **Most recent day is an *UP* breakout!**\"\n",
    "        elif breakout_down.iloc[-1]:\n",
    "            recent = f\"- **Most recent day is a *DOWN* breakout!**\"\n",
    "        else:\n",
    "            recent = f\"- **Most recent day is inside the channel (no breakout).**\"\n",
    "    summary = f\"\"\"\n",
    "### Donchian Breakout Summary for **{item}** ({donchian_window}-Day Window)\n",
    "\n",
    "- **Up breakouts (bullish):** {n_up}\n",
    "- **Down breakouts (bearish):** {n_down}\n",
    "{recent}\n",
    "\n",
    "**Interpretation:**  \n",
    "{\"More up breakouts suggest buyers are dominating and price is making new highs frequently.\"\n",
    " if n_up > n_down else\n",
    "\"More down breakouts indicate aggressive selling or new lows, a bearish market.\"\n",
    " if n_down > n_up else\n",
    "\"Up and down breakouts are balanced—market may be ranging or indecisive.\"\n",
    "}\n",
    "\"\"\"\n",
    "    display(md(summary))\n",
    "\n",
    "# Call the function **after changing widgets**\n",
    "summarize_donchian_breakouts(item_dropdown.value, donchian_slider.value)\n"
   ]
  }
 ],
 "metadata": {
  "kernelspec": {
   "display_name": ".venv",
   "language": "python",
   "name": "python3"
  },
  "language_info": {
   "codemirror_mode": {
    "name": "ipython",
    "version": 3
   },
   "file_extension": ".py",
   "mimetype": "text/x-python",
   "name": "python",
   "nbconvert_exporter": "python",
   "pygments_lexer": "ipython3",
   "version": "3.13.5"
  }
 },
 "nbformat": 4,
 "nbformat_minor": 5
}
