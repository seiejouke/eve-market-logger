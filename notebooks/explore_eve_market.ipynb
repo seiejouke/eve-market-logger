{
 "cells": [
  {
   "cell_type": "code",
   "execution_count": 2,
   "id": "2adb938a",
   "metadata": {},
   "outputs": [
    {
     "name": "stderr",
     "output_type": "stream",
     "text": [
      "C:\\Users\\Jouke\\AppData\\Local\\Temp\\ipykernel_26740\\3237985653.py:23: UserWarning: pandas only supports SQLAlchemy connectable (engine/connection) or database string URI or sqlite3 DBAPI2 connection. Other DBAPI2 objects are not tested. Please consider using SQLAlchemy.\n",
      "  df = pd.read_sql(query, conn)\n"
     ]
    },
    {
     "data": {
      "text/html": [
       "<div>\n",
       "<style scoped>\n",
       "    .dataframe tbody tr th:only-of-type {\n",
       "        vertical-align: middle;\n",
       "    }\n",
       "\n",
       "    .dataframe tbody tr th {\n",
       "        vertical-align: top;\n",
       "    }\n",
       "\n",
       "    .dataframe thead th {\n",
       "        text-align: right;\n",
       "    }\n",
       "</style>\n",
       "<table border=\"1\" class=\"dataframe\">\n",
       "  <thead>\n",
       "    <tr style=\"text-align: right;\">\n",
       "      <th></th>\n",
       "      <th>id</th>\n",
       "      <th>item_name</th>\n",
       "      <th>price</th>\n",
       "      <th>volume</th>\n",
       "      <th>location</th>\n",
       "      <th>order_type</th>\n",
       "      <th>issued_at</th>\n",
       "    </tr>\n",
       "  </thead>\n",
       "  <tbody>\n",
       "    <tr>\n",
       "      <th>0</th>\n",
       "      <td>351</td>\n",
       "      <td>Tritanium</td>\n",
       "      <td>4.15</td>\n",
       "      <td>241802</td>\n",
       "      <td>60015027</td>\n",
       "      <td>sell</td>\n",
       "      <td>2025-06-24 18:24:51</td>\n",
       "    </tr>\n",
       "    <tr>\n",
       "      <th>1</th>\n",
       "      <td>175</td>\n",
       "      <td>Tritanium</td>\n",
       "      <td>4.16</td>\n",
       "      <td>97727677</td>\n",
       "      <td>60003760</td>\n",
       "      <td>sell</td>\n",
       "      <td>2025-06-24 18:14:33</td>\n",
       "    </tr>\n",
       "    <tr>\n",
       "      <th>2</th>\n",
       "      <td>350</td>\n",
       "      <td>Tritanium</td>\n",
       "      <td>4.16</td>\n",
       "      <td>97727677</td>\n",
       "      <td>60003760</td>\n",
       "      <td>sell</td>\n",
       "      <td>2025-06-24 18:14:33</td>\n",
       "    </tr>\n",
       "    <tr>\n",
       "      <th>3</th>\n",
       "      <td>174</td>\n",
       "      <td>Tritanium</td>\n",
       "      <td>1.01</td>\n",
       "      <td>540001</td>\n",
       "      <td>60010195</td>\n",
       "      <td>sell</td>\n",
       "      <td>2025-06-24 18:14:10</td>\n",
       "    </tr>\n",
       "    <tr>\n",
       "      <th>4</th>\n",
       "      <td>349</td>\n",
       "      <td>Tritanium</td>\n",
       "      <td>1.01</td>\n",
       "      <td>540001</td>\n",
       "      <td>60010195</td>\n",
       "      <td>sell</td>\n",
       "      <td>2025-06-24 18:14:10</td>\n",
       "    </tr>\n",
       "  </tbody>\n",
       "</table>\n",
       "</div>"
      ],
      "text/plain": [
       "    id  item_name  price    volume  location order_type           issued_at\n",
       "0  351  Tritanium   4.15    241802  60015027       sell 2025-06-24 18:24:51\n",
       "1  175  Tritanium   4.16  97727677  60003760       sell 2025-06-24 18:14:33\n",
       "2  350  Tritanium   4.16  97727677  60003760       sell 2025-06-24 18:14:33\n",
       "3  174  Tritanium   1.01    540001  60010195       sell 2025-06-24 18:14:10\n",
       "4  349  Tritanium   1.01    540001  60010195       sell 2025-06-24 18:14:10"
      ]
     },
     "execution_count": 2,
     "metadata": {},
     "output_type": "execute_result"
    }
   ],
   "source": [
    "import pandas as pd\n",
    "import psycopg2\n",
    "from dotenv import load_dotenv\n",
    "import os\n",
    "\n",
    "load_dotenv()\n",
    "\n",
    "conn = psycopg2.connect(\n",
    "    dbname=os.getenv(\"DB_NAME\"),\n",
    "    user=os.getenv(\"DB_USER\"),\n",
    "    password=os.getenv(\"DB_PASS\"),\n",
    "    host=os.getenv(\"DB_HOST\", \"localhost\"),\n",
    "    port=os.getenv(\"DB_PORT\", \"5432\")\n",
    ")\n",
    "\n",
    "query = \"\"\"\n",
    "SELECT * FROM market_orders\n",
    "WHERE item_name = 'Tritanium'\n",
    "ORDER BY issued_at DESC\n",
    "LIMIT 500;\n",
    "\"\"\"\n",
    "\n",
    "df = pd.read_sql(query, conn)\n",
    "df.head()\n"
   ]
  },
  {
   "cell_type": "code",
   "execution_count": 2,
   "id": "065dbdd3",
   "metadata": {},
   "outputs": [
    {
     "name": "stdout",
     "output_type": "stream",
     "text": [
      "Collecting requests\n",
      "  Using cached requests-2.32.4-py3-none-any.whl.metadata (4.9 kB)\n",
      "Collecting charset_normalizer<4,>=2 (from requests)\n",
      "  Downloading charset_normalizer-3.4.2-cp313-cp313-win_amd64.whl.metadata (36 kB)\n",
      "Collecting idna<4,>=2.5 (from requests)\n",
      "  Using cached idna-3.10-py3-none-any.whl.metadata (10 kB)\n",
      "Collecting urllib3<3,>=1.21.1 (from requests)\n",
      "  Using cached urllib3-2.5.0-py3-none-any.whl.metadata (6.5 kB)\n",
      "Collecting certifi>=2017.4.17 (from requests)\n",
      "  Using cached certifi-2025.6.15-py3-none-any.whl.metadata (2.4 kB)\n",
      "Using cached requests-2.32.4-py3-none-any.whl (64 kB)\n",
      "Downloading charset_normalizer-3.4.2-cp313-cp313-win_amd64.whl (105 kB)\n",
      "Using cached idna-3.10-py3-none-any.whl (70 kB)\n",
      "Using cached urllib3-2.5.0-py3-none-any.whl (129 kB)\n",
      "Using cached certifi-2025.6.15-py3-none-any.whl (157 kB)\n",
      "Installing collected packages: urllib3, idna, charset_normalizer, certifi, requests\n",
      "\n",
      "   ---------------------------------------- 0/5 [urllib3]\n",
      "   ---------------------------------------- 0/5 [urllib3]\n",
      "   ---------------- ----------------------- 2/5 [charset_normalizer]\n",
      "   ---------------- ----------------------- 2/5 [charset_normalizer]\n",
      "   -------------------------------- ------- 4/5 [requests]\n",
      "   ---------------------------------------- 5/5 [requests]\n",
      "\n",
      "Successfully installed certifi-2025.6.15 charset_normalizer-3.4.2 idna-3.10 requests-2.32.4 urllib3-2.5.0\n",
      "Note: you may need to restart the kernel to use updated packages.\n"
     ]
    }
   ],
   "source": [
    "%pip install requests\n"
   ]
  },
  {
   "cell_type": "code",
   "execution_count": 1,
   "id": "9d4534a5",
   "metadata": {},
   "outputs": [
    {
     "name": "stdout",
     "output_type": "stream",
     "text": [
      "Requirement already satisfied: pandas in c:\\users\\jouke\\documents\\evedata-logger\\.venv\\lib\\site-packages (2.3.0)\n",
      "Requirement already satisfied: psycopg2-binary in c:\\users\\jouke\\documents\\evedata-logger\\.venv\\lib\\site-packages (2.9.10)\n",
      "Requirement already satisfied: python-dotenv in c:\\users\\jouke\\documents\\evedata-logger\\.venv\\lib\\site-packages (1.1.1)\n",
      "Requirement already satisfied: matplotlib in c:\\users\\jouke\\documents\\evedata-logger\\.venv\\lib\\site-packages (3.10.3)\n",
      "Requirement already satisfied: requests in c:\\users\\jouke\\documents\\evedata-logger\\.venv\\lib\\site-packages (2.32.4)\n",
      "Requirement already satisfied: numpy>=1.26.0 in c:\\users\\jouke\\documents\\evedata-logger\\.venv\\lib\\site-packages (from pandas) (2.3.1)\n",
      "Requirement already satisfied: python-dateutil>=2.8.2 in c:\\users\\jouke\\documents\\evedata-logger\\.venv\\lib\\site-packages (from pandas) (2.9.0.post0)\n",
      "Requirement already satisfied: pytz>=2020.1 in c:\\users\\jouke\\documents\\evedata-logger\\.venv\\lib\\site-packages (from pandas) (2025.2)\n",
      "Requirement already satisfied: tzdata>=2022.7 in c:\\users\\jouke\\documents\\evedata-logger\\.venv\\lib\\site-packages (from pandas) (2025.2)\n",
      "Requirement already satisfied: contourpy>=1.0.1 in c:\\users\\jouke\\documents\\evedata-logger\\.venv\\lib\\site-packages (from matplotlib) (1.3.2)\n",
      "Requirement already satisfied: cycler>=0.10 in c:\\users\\jouke\\documents\\evedata-logger\\.venv\\lib\\site-packages (from matplotlib) (0.12.1)\n",
      "Requirement already satisfied: fonttools>=4.22.0 in c:\\users\\jouke\\documents\\evedata-logger\\.venv\\lib\\site-packages (from matplotlib) (4.58.4)\n",
      "Requirement already satisfied: kiwisolver>=1.3.1 in c:\\users\\jouke\\documents\\evedata-logger\\.venv\\lib\\site-packages (from matplotlib) (1.4.8)\n",
      "Requirement already satisfied: packaging>=20.0 in c:\\users\\jouke\\documents\\evedata-logger\\.venv\\lib\\site-packages (from matplotlib) (25.0)\n",
      "Requirement already satisfied: pillow>=8 in c:\\users\\jouke\\documents\\evedata-logger\\.venv\\lib\\site-packages (from matplotlib) (11.2.1)\n",
      "Requirement already satisfied: pyparsing>=2.3.1 in c:\\users\\jouke\\documents\\evedata-logger\\.venv\\lib\\site-packages (from matplotlib) (3.2.3)\n",
      "Requirement already satisfied: charset_normalizer<4,>=2 in c:\\users\\jouke\\documents\\evedata-logger\\.venv\\lib\\site-packages (from requests) (3.4.2)\n",
      "Requirement already satisfied: idna<4,>=2.5 in c:\\users\\jouke\\documents\\evedata-logger\\.venv\\lib\\site-packages (from requests) (3.10)\n",
      "Requirement already satisfied: urllib3<3,>=1.21.1 in c:\\users\\jouke\\documents\\evedata-logger\\.venv\\lib\\site-packages (from requests) (2.5.0)\n",
      "Requirement already satisfied: certifi>=2017.4.17 in c:\\users\\jouke\\documents\\evedata-logger\\.venv\\lib\\site-packages (from requests) (2025.6.15)\n",
      "Requirement already satisfied: six>=1.5 in c:\\users\\jouke\\documents\\evedata-logger\\.venv\\lib\\site-packages (from python-dateutil>=2.8.2->pandas) (1.17.0)\n",
      "Note: you may need to restart the kernel to use updated packages.\n"
     ]
    }
   ],
   "source": [
    "%pip install pandas psycopg2-binary python-dotenv matplotlib requests\n"
   ]
  },
  {
   "cell_type": "code",
   "execution_count": 3,
   "id": "5c6622e8",
   "metadata": {},
   "outputs": [
    {
     "name": "stderr",
     "output_type": "stream",
     "text": [
      "C:\\Users\\Jouke\\AppData\\Local\\Temp\\ipykernel_26740\\2731029150.py:16: UserWarning: Glyph 128200 (\\N{CHART WITH UPWARDS TREND}) missing from font(s) DejaVu Sans.\n",
      "  plt.tight_layout()\n",
      "c:\\Users\\Jouke\\Documents\\evedata-logger\\.venv\\Lib\\site-packages\\IPython\\core\\pylabtools.py:170: UserWarning: Glyph 128200 (\\N{CHART WITH UPWARDS TREND}) missing from font(s) DejaVu Sans.\n",
      "  fig.canvas.print_figure(bytes_io, **kw)\n"
     ]
    },
    {
     "data": {
      "image/png": "[encoded data removed]",
      "text/plain": [
       "<Figure size 1000x500 with 1 Axes>"
      ]
     },
     "metadata": {},
     "output_type": "display_data"
    }
   ],
   "source": [
    "import matplotlib.pyplot as plt\n",
    "\n",
    "# Convert issued_at to datetime\n",
    "df['issued_at'] = pd.to_datetime(df['issued_at'])\n",
    "\n",
    "# Sort by time (older → newer)\n",
    "df = df.sort_values('issued_at')\n",
    "\n",
    "# Plot\n",
    "plt.figure(figsize=(10, 5))\n",
    "plt.plot(df['issued_at'], df['price'], marker='o', linestyle='-', alpha=0.7)\n",
    "plt.title('📈 Tritanium Sell Price Over Time')\n",
    "plt.xlabel('Date')\n",
    "plt.ylabel('Price (ISK)')\n",
    "plt.grid(True)\n",
    "plt.tight_layout()\n",
    "plt.show()\n"
   ]
  },
  {
   "cell_type": "code",
   "execution_count": null,
   "id": "274225cb",
   "metadata": {},
   "outputs": [],
   "source": []
  }
 ],
 "metadata": {
  "kernelspec": {
   "display_name": ".venv",
   "language": "python",
   "name": "python3"
  },
  "language_info": {
   "codemirror_mode": {
    "name": "ipython",
    "version": 3
   },
   "file_extension": ".py",
   "mimetype": "text/x-python",
   "name": "python",
   "nbconvert_exporter": "python",
   "pygments_lexer": "ipython3",
   "version": "3.13.5"
  }
 },
 "nbformat": 4,
 "nbformat_minor": 5
}
