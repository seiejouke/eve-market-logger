{
 "cells": [
  {
   "cell_type": "code",
   "execution_count": null,
   "id": "bcf04ea5",
   "metadata": {},
   "outputs": [
    {
     "name": "stderr",
     "output_type": "stream",
     "text": [
      "C:\\Users\\Jouke\\AppData\\Local\\Temp\\ipykernel_33760\\2248263563.py:28: UserWarning: pandas only supports SQLAlchemy connectable (engine/connection) or database string URI or sqlite3 DBAPI2 connection. Other DBAPI2 objects are not tested. Please consider using SQLAlchemy.\n",
      "  item_map = pd.read_sql_query(\"SELECT type_id, type_name FROM inv_types\", conn)\n"
     ]
    },
    {
     "data": {
      "application/vnd.jupyter.widget-view+json": {
       "model_id": "05acc3274c334fddb76b50e4193a98f7",
       "version_major": 2,
       "version_minor": 0
      },
      "text/plain": [
       "Combobox(value='', description='Item:', ensure_option=True, layout=Layout(width='50%'), options=(' Tyrant Blue…"
      ]
     },
     "metadata": {},
     "output_type": "display_data"
    },
    {
     "data": {
      "application/vnd.jupyter.widget-view+json": {
       "model_id": "ba94f2825c6440e6ace35e2cefff02db",
       "version_major": 2,
       "version_minor": 0
      },
      "text/plain": [
       "Output()"
      ]
     },
     "metadata": {},
     "output_type": "display_data"
    }
   ],
   "source": [
    "import os\n",
    "import pandas as pd\n",
    "import matplotlib.pyplot as plt\n",
    "import ipywidgets as widgets\n",
    "from IPython.display import display\n",
    "from datetime import timedelta\n",
    "import sqlalchemy import create_engine\n",
    "\n",
    "# ----- Load market history CSVs -----\n",
    "csv_dir = os.path.abspath('../output/market_history')\n",
    "\n",
    "market_df = pd.concat([\n",
    "    pd.read_csv(os.path.join(csv_dir, f'market_history_batch_{i}.csv'))\n",
    "    for i in range(1, 49)\n",
    "    if os.path.exists(os.path.join(csv_dir, f'market_history_batch_{i}.csv'))\n",
    "], ignore_index=True)\n",
    "\n",
    "market_df['date'] = pd.to_datetime(market_df['date'])\n",
    "\n",
    "# ----- Load item names from PostgreSQL -----\n",
    "conn = psycopg2.connect(\n",
    "    dbname=\"eve_data\",\n",
    "    user=\"postgres\",\n",
    "    password=\"109009885\",  # replace if needed\n",
    "    host=\"localhost\",\n",
    "    port=\"5432\"\n",
    ")\n",
    "item_map = pd.read_sql_query(\"SELECT type_id, type_name FROM inv_types\", conn)\n",
    "item_map = item_map.rename(columns={'type_name': 'item_name'})\n",
    "conn.close()\n",
    "\n",
    "# ----- Merge market data with item names -----\n",
    "full_df = market_df.merge(item_map, on='type_id')\n",
    "\n",
    "# ----- Set up dropdown and plot widget -----\n",
    "item_names = sorted(full_df['item_name'].unique())\n",
    "dropdown = widgets.Combobox(\n",
    "    placeholder='Search item...',\n",
    "    options=item_names,\n",
    "    description='Item:',\n",
    "    ensure_option=True,\n",
    "    layout=widgets.Layout(width='50%')\n",
    ")\n",
    "\n",
    "output = widgets.Output()\n",
    "\n",
    "def plot_item(change):\n",
    "    output.clear_output()\n",
    "    selected = change['new']\n",
    "    if selected not in item_names:\n",
    "        return\n",
    "    with output:\n",
    "        df = full_df[\n",
    "            (full_df['item_name'] == selected) &\n",
    "            (full_df['date'] >= pd.Timestamp.today() - timedelta(days=365))\n",
    "        ]\n",
    "        if df.empty:\n",
    "            print(\"No data in last year.\")\n",
    "            return\n",
    "        plt.figure(figsize=(10, 5))\n",
    "        plt.plot(df['date'], df['average'], label='Average Price')\n",
    "        plt.title(f\"{selected} — Last 365 Days\")\n",
    "        plt.xlabel('Date')\n",
    "        plt.ylabel('ISK')\n",
    "        plt.grid()\n",
    "        plt.legend()\n",
    "        plt.tight_layout()\n",
    "        plt.show()\n",
    "\n",
    "dropdown.observe(plot_item, names='value')\n",
    "display(dropdown, output)\n"
   ]
  }
 ],
 "metadata": {
  "kernelspec": {
   "display_name": ".venv",
   "language": "python",
   "name": "python3"
  },
  "language_info": {
   "codemirror_mode": {
    "name": "ipython",
    "version": 3
   },
   "file_extension": ".py",
   "mimetype": "text/x-python",
   "name": "python",
   "nbconvert_exporter": "python",
   "pygments_lexer": "ipython3",
   "version": "3.13.5"
  }
 },
 "nbformat": 4,
 "nbformat_minor": 5
}
