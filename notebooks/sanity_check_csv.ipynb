{
 "cells": [
  {
   "cell_type": "code",
   "execution_count": 5,
   "id": "8f674a1c",
   "metadata": {},
   "outputs": [],
   "source": [
    "import pandas as pd"
   ]
  },
  {
   "cell_type": "code",
   "execution_count": 6,
   "id": "cc0f6ff0",
   "metadata": {},
   "outputs": [
    {
     "data": {
      "text/html": [
       "<div>\n",
       "<style scoped>\n",
       "    .dataframe tbody tr th:only-of-type {\n",
       "        vertical-align: middle;\n",
       "    }\n",
       "\n",
       "    .dataframe tbody tr th {\n",
       "        vertical-align: top;\n",
       "    }\n",
       "\n",
       "    .dataframe thead th {\n",
       "        text-align: right;\n",
       "    }\n",
       "</style>\n",
       "<table border=\"1\" class=\"dataframe\">\n",
       "  <thead>\n",
       "    <tr style=\"text-align: right;\">\n",
       "      <th></th>\n",
       "      <th>average</th>\n",
       "      <th>date</th>\n",
       "      <th>highest</th>\n",
       "      <th>lowest</th>\n",
       "      <th>order_count</th>\n",
       "      <th>volume</th>\n",
       "      <th>type_id</th>\n",
       "      <th>type_name</th>\n",
       "    </tr>\n",
       "  </thead>\n",
       "  <tbody>\n",
       "    <tr>\n",
       "      <th>0</th>\n",
       "      <td>39.00</td>\n",
       "      <td>2024-05-01</td>\n",
       "      <td>39.00</td>\n",
       "      <td>38.99</td>\n",
       "      <td>72.0</td>\n",
       "      <td>755298</td>\n",
       "      <td>18</td>\n",
       "      <td>Plagioclase</td>\n",
       "    </tr>\n",
       "    <tr>\n",
       "      <th>1</th>\n",
       "      <td>31.27</td>\n",
       "      <td>2024-05-02</td>\n",
       "      <td>31.27</td>\n",
       "      <td>31.22</td>\n",
       "      <td>78.0</td>\n",
       "      <td>1259473</td>\n",
       "      <td>18</td>\n",
       "      <td>Plagioclase</td>\n",
       "    </tr>\n",
       "    <tr>\n",
       "      <th>2</th>\n",
       "      <td>31.29</td>\n",
       "      <td>2024-05-03</td>\n",
       "      <td>31.29</td>\n",
       "      <td>31.27</td>\n",
       "      <td>73.0</td>\n",
       "      <td>1785475</td>\n",
       "      <td>18</td>\n",
       "      <td>Plagioclase</td>\n",
       "    </tr>\n",
       "    <tr>\n",
       "      <th>3</th>\n",
       "      <td>31.34</td>\n",
       "      <td>2024-05-04</td>\n",
       "      <td>37.98</td>\n",
       "      <td>31.31</td>\n",
       "      <td>77.0</td>\n",
       "      <td>986104</td>\n",
       "      <td>18</td>\n",
       "      <td>Plagioclase</td>\n",
       "    </tr>\n",
       "    <tr>\n",
       "      <th>4</th>\n",
       "      <td>31.35</td>\n",
       "      <td>2024-05-05</td>\n",
       "      <td>33.00</td>\n",
       "      <td>31.34</td>\n",
       "      <td>79.0</td>\n",
       "      <td>1375376</td>\n",
       "      <td>18</td>\n",
       "      <td>Plagioclase</td>\n",
       "    </tr>\n",
       "  </tbody>\n",
       "</table>\n",
       "</div>"
      ],
      "text/plain": [
       "   average       date  highest  lowest  order_count   volume  type_id  \\\n",
       "0    39.00 2024-05-01    39.00   38.99         72.0   755298       18   \n",
       "1    31.27 2024-05-02    31.27   31.22         78.0  1259473       18   \n",
       "2    31.29 2024-05-03    31.29   31.27         73.0  1785475       18   \n",
       "3    31.34 2024-05-04    37.98   31.31         77.0   986104       18   \n",
       "4    31.35 2024-05-05    33.00   31.34         79.0  1375376       18   \n",
       "\n",
       "     type_name  \n",
       "0  Plagioclase  \n",
       "1  Plagioclase  \n",
       "2  Plagioclase  \n",
       "3  Plagioclase  \n",
       "4  Plagioclase  "
      ]
     },
     "execution_count": 6,
     "metadata": {},
     "output_type": "execute_result"
    }
   ],
   "source": [
    "df = pd.read_csv('../output/market_data_with_names_merged.csv', parse_dates=['date'])\n",
    "df.head()"
   ]
  },
  {
   "cell_type": "code",
   "execution_count": 7,
   "id": "bc34153f",
   "metadata": {},
   "outputs": [
    {
     "name": "stdout",
     "output_type": "stream",
     "text": [
      "Rows missing item names: 0\n"
     ]
    }
   ],
   "source": [
    "missing_names = df['type_name'].isna().sum()\n",
    "print(f\"Rows missing item names: {missing_names}\")\n",
    "\n",
    "if missing_names > 0:\n",
    "    display(df[df['type_name'].isna()].head())"
   ]
  }
 ],
 "metadata": {
  "kernelspec": {
   "display_name": ".venv",
   "language": "python",
   "name": "python3"
  },
  "language_info": {
   "codemirror_mode": {
    "name": "ipython",
    "version": 3
   },
   "file_extension": ".py",
   "mimetype": "text/x-python",
   "name": "python",
   "nbconvert_exporter": "python",
   "pygments_lexer": "ipython3",
   "version": "3.13.5"
  }
 },
 "nbformat": 4,
 "nbformat_minor": 5
}
