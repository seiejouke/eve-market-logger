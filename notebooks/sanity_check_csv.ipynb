{
 "cells": [
  {
   "cell_type": "code",
   "execution_count": null,
   "id": "8f674a1c",
   "metadata": {},
   "outputs": [],
   "source": [
    "import pandas as pd"
   ]
  },
  {
   "cell_type": "code",
   "execution_count": null,
   "id": "cc0f6ff0",
   "metadata": {},
   "outputs": [],
   "source": [
    "df = pd.read_csv('../output/market_data_with_names_merged.csv', parse_dates=['date'])\n",
    "df.head()"
   ]
  },
  {
   "cell_type": "code",
   "execution_count": null,
   "id": "bc34153f",
   "metadata": {},
   "outputs": [],
   "source": [
    "missing_names = df['type_name'].isna().sum()\n",
    "print(f\"Rows missing item names: {missing_names}\")\n",
    "\n",
    "if missing_names > 0:\n",
    "    display(df[df['type_name'].isna()].head())"
   ]
  }
 ],
 "metadata": {
  "kernelspec": {
   "display_name": ".venv",
   "language": "python",
   "name": "python3"
  },
  "language_info": {
   "codemirror_mode": {
    "name": "ipython",
    "version": 3
   },
   "file_extension": ".py",
   "mimetype": "text/x-python",
   "name": "python",
   "nbconvert_exporter": "python",
   "pygments_lexer": "ipython3",
   "version": "3.13.5"
  }
 },
 "nbformat": 4,
 "nbformat_minor": 5
}
