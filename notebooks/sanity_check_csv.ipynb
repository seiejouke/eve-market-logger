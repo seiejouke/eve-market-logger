{
 "cells": [
  {
   "cell_type": "code",
   "execution_count": 5,
   "id": "8f674a1c",
   "metadata": {},
   "outputs": [],
   "source": [
    "import pandas as pd"
   ]
  },
  {
   "cell_type": "code",
   "execution_count": 6,
   "id": "cc0f6ff0",
   "metadata": {},
   "outputs": [
    {
     "data": {
      "text/html": [
       "<div>\n",
       "<style scoped>\n",
       "    .dataframe tbody tr th:only-of-type {\n",
       "        vertical-align: middle;\n",
       "    }\n",
       "\n",
       "    .dataframe tbody tr th {\n",
       "        vertical-align: top;\n",
       "    }\n",
       "\n",
       "    .dataframe thead th {\n",
       "        text-align: right;\n",
       "    }\n",
       "</style>\n",
       "<table border=\"1\" class=\"dataframe\">\n",
       "  <thead>\n",
       "    <tr style=\"text-align: right;\">\n",
       "      <th></th>\n",
       "      <th>type_id</th>\n",
       "      <th>date</th>\n",
       "      <th>volume</th>\n",
       "      <th>average</th>\n",
       "      <th>highest</th>\n",
       "      <th>lowest</th>\n",
       "      <th>type_name</th>\n",
       "    </tr>\n",
       "  </thead>\n",
       "  <tbody>\n",
       "    <tr>\n",
       "      <th>0</th>\n",
       "      <td>18</td>\n",
       "      <td>2024-07-07</td>\n",
       "      <td>5351668</td>\n",
       "      <td>27.41</td>\n",
       "      <td>27.41</td>\n",
       "      <td>27.41</td>\n",
       "      <td>Plagioclase</td>\n",
       "    </tr>\n",
       "    <tr>\n",
       "      <th>1</th>\n",
       "      <td>18</td>\n",
       "      <td>2024-07-08</td>\n",
       "      <td>602210</td>\n",
       "      <td>43.00</td>\n",
       "      <td>44.18</td>\n",
       "      <td>33.19</td>\n",
       "      <td>Plagioclase</td>\n",
       "    </tr>\n",
       "    <tr>\n",
       "      <th>2</th>\n",
       "      <td>18</td>\n",
       "      <td>2024-07-09</td>\n",
       "      <td>924392</td>\n",
       "      <td>33.20</td>\n",
       "      <td>33.20</td>\n",
       "      <td>33.20</td>\n",
       "      <td>Plagioclase</td>\n",
       "    </tr>\n",
       "    <tr>\n",
       "      <th>3</th>\n",
       "      <td>18</td>\n",
       "      <td>2024-07-10</td>\n",
       "      <td>1789954</td>\n",
       "      <td>33.22</td>\n",
       "      <td>33.22</td>\n",
       "      <td>33.22</td>\n",
       "      <td>Plagioclase</td>\n",
       "    </tr>\n",
       "    <tr>\n",
       "      <th>4</th>\n",
       "      <td>18</td>\n",
       "      <td>2024-07-11</td>\n",
       "      <td>3189959</td>\n",
       "      <td>33.20</td>\n",
       "      <td>33.20</td>\n",
       "      <td>33.20</td>\n",
       "      <td>Plagioclase</td>\n",
       "    </tr>\n",
       "  </tbody>\n",
       "</table>\n",
       "</div>"
      ],
      "text/plain": [
       "   type_id       date   volume  average  highest  lowest    type_name\n",
       "0       18 2024-07-07  5351668    27.41    27.41   27.41  Plagioclase\n",
       "1       18 2024-07-08   602210    43.00    44.18   33.19  Plagioclase\n",
       "2       18 2024-07-09   924392    33.20    33.20   33.20  Plagioclase\n",
       "3       18 2024-07-10  1789954    33.22    33.22   33.22  Plagioclase\n",
       "4       18 2024-07-11  3189959    33.20    33.20   33.20  Plagioclase"
      ]
     },
     "execution_count": 6,
     "metadata": {},
     "output_type": "execute_result"
    }
   ],
   "source": [
    "df = pd.read_csv(r'C:\\Users\\Jouke\\Documents\\evedata-logger\\output\\market_data_with_names_merged.csv', parse_dates=['date'])\n",
    "df.head()"
   ]
  },
  {
   "cell_type": "code",
   "execution_count": 7,
   "id": "bc34153f",
   "metadata": {},
   "outputs": [
    {
     "name": "stdout",
     "output_type": "stream",
     "text": [
      "Rows missing item names: 0\n"
     ]
    }
   ],
   "source": [
    "missing_names = df['type_name'].isna().sum()\n",
    "print(f\"Rows missing item names: {missing_names}\")\n",
    "\n",
    "if missing_names > 0:\n",
    "    display(df[df['type_name'].isna()].head())"
   ]
  }
 ],
 "metadata": {
  "kernelspec": {
   "display_name": ".venv",
   "language": "python",
   "name": "python3"
  },
  "language_info": {
   "codemirror_mode": {
    "name": "ipython",
    "version": 3
   },
   "file_extension": ".py",
   "mimetype": "text/x-python",
   "name": "python",
   "nbconvert_exporter": "python",
   "pygments_lexer": "ipython3",
   "version": "3.13.5"
  }
 },
 "nbformat": 4,
 "nbformat_minor": 5
}
