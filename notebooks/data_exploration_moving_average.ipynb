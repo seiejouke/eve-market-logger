{
 "cells": [
  {
   "cell_type": "code",
   "execution_count": null,
   "id": "721c2bd8",
   "metadata": {},
   "outputs": [],
   "source": [
    "import pandas as pd\n",
    "import matplotlib.pyplot as plt\n",
    "\n",
    "import matplotlib.dates as mdates # Less verbose dates\n",
    "\n",
    "# Let's keep the notebook user-friendly\n",
    "from ipywidgets import interact, widgets, VBox, HBox \n",
    "from IPython.display import display, clear_output"
   ]
  },
  {
   "cell_type": "code",
   "execution_count": null,
   "id": "c1805cbf",
   "metadata": {},
   "outputs": [],
   "source": [
    "# Use forward slashes or relative path\n",
    "\n",
    "df = pd.read_csv(\"../output/market_data_with_names_merged.csv\", parse_dates=[\"date\"])\n",
    "\n",
    "df['date'] = pd.to_datetime(df['date'], errors='coerce')\n",
    "\n",
    "\n"
   ]
  },
  {
   "cell_type": "code",
   "execution_count": null,
   "id": "f131188d",
   "metadata": {},
   "outputs": [],
   "source": [
    "def plot_item_interactive(search_term, price_type=\"average\"):\n",
    "    clear_output(wait=True)\n",
    "    # Match items containing the search term (case-insensitive)\n",
    "    matched_items = df[df[\"type_name\"].str.contains(search_term, case=False, na=False)][\"type_name\"].unique()\n",
    "    \n",
    "    if len(matched_items) == 0:\n",
    "        print(f\"No match found for '{search_term}'\")\n",
    "        return\n",
    "\n",
    "    # If multiple, show dropdown for selection\n",
    "    if len(matched_items) > 1:\n",
    "        print(f\"Multiple matches found for '{search_term}':\")\n",
    "        dropdown = widgets.Dropdown(\n",
    "            options=matched_items,\n",
    "            description='Select:',\n",
    "            disabled=False,\n",
    "        )\n",
    "        display(dropdown)\n",
    "        def dropdown_plot(selected_item):\n",
    "            _plot_item(selected_item, price_type)\n",
    "        interact(dropdown_plot, selected_item=dropdown)\n",
    "    else:\n",
    "        _plot_item(matched_items[0], price_type)\n",
    "\n",
    "def _plot_item(item, price_type):\n",
    "    item_df = df[df[\"type_name\"] == item].sort_values(\"date\")\n",
    "    plt.figure(figsize=(12, 4))\n",
    "    ax = plt.gca()\n",
    "    item_df.groupby(\"date\")[price_type].mean().plot()\n",
    "    ax.xaxis.set_major_formatter(mdates.DateFormatter('%Y-%m-%d'))\n",
    "    plt.title(f\"{item} - {price_type.title()} Price Over Time\")\n",
    "    plt.xlabel(\"Date\")\n",
    "    plt.ylabel(f\"{price_type.title()} Price\")\n",
    "    plt.grid(True)\n",
    "    plt.tight_layout()\n",
    "    plt.show()\n",
    "    print(f\"Showing: {item}\")\n"
   ]
  },
  {
   "cell_type": "code",
   "execution_count": null,
   "id": "78ab2c20",
   "metadata": {},
   "outputs": [],
   "source": [
    "search_box = widgets.Text(\n",
    "    value='hydrogen',\n",
    "    placeholder='Type part of an item name...',\n",
    "    description='Search:',\n",
    "    disabled=False\n",
    ")\n",
    "\n",
    "price_type_dropdown = widgets.Dropdown(\n",
    "    options=[\n",
    "        ('Average Price', 'average'),\n",
    "        ('Highest Price', 'highest'),\n",
    "        ('Lowest Price', 'lowest'),\n",
    "        ('Volume', 'volume'),\n",
    "        ('Order Count', 'order_count')\n",
    "    ],\n",
    "    value='average',\n",
    "    description='Show:',\n",
    "    disabled=False,\n",
    ")\n",
    "\n",
    "\n",
    "ui = VBox([search_box, price_type_dropdown])\n",
    "\n",
    "def update_plot(search_term, price_type):\n",
    "    plot_item_interactive(search_term, price_type)\n",
    "\n",
    "out = widgets.interactive_output(update_plot, {'search_term': search_box, 'price_type': price_type_dropdown})\n",
    "display(ui, out)\n"
   ]
  },
  {
   "cell_type": "code",
   "execution_count": null,
   "id": "e7f01b18",
   "metadata": {},
   "outputs": [],
   "source": [
    "print(df.columns)"
   ]
  }
 ],
 "metadata": {
  "kernelspec": {
   "display_name": ".venv",
   "language": "python",
   "name": "python3"
  },
  "language_info": {
   "codemirror_mode": {
    "name": "ipython",
    "version": 3
   },
   "file_extension": ".py",
   "mimetype": "text/x-python",
   "name": "python",
   "nbconvert_exporter": "python",
   "pygments_lexer": "ipython3",
   "version": "3.13.5"
  }
 },
 "nbformat": 4,
 "nbformat_minor": 5
}
