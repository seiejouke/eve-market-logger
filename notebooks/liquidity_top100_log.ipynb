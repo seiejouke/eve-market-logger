{
 "cells": [
  {
   "cell_type": "code",
   "execution_count": null,
   "id": "bbd9c732",
   "metadata": {},
   "outputs": [],
   "source": [
    "import pandas as pd\n",
    "import matplotlib.pyplot as plt"
   ]
  },
  {
   "cell_type": "code",
   "execution_count": null,
   "id": "15e42bff",
   "metadata": {},
   "outputs": [],
   "source": [
    "df = pd.read_csv(r'C:\\Users\\Jouke\\Documents\\evedata-logger\\output\\market_data_with_names_merged.csv', parse_dates=['date'])"
   ]
  },
  {
   "cell_type": "code",
   "execution_count": null,
   "id": "cc1922d9",
   "metadata": {},
   "outputs": [],
   "source": [
    "# Sum volume for each item per day (if not already per day)\n",
    "daily_volume = df.groupby(['type_id', 'date'])['volume'].sum().reset_index()\n",
    "\n",
    "# Calculate average daily volume for each item\n",
    "avg_daily_volume = daily_volume.groupby('type_id')['volume'].mean().reset_index()\n",
    "avg_daily_volume.columns = ['type_id', 'avg_daily_volume']"
   ]
  },
  {
   "cell_type": "code",
   "execution_count": null,
   "id": "c02fbdb6",
   "metadata": {},
   "outputs": [],
   "source": [
    "# Spread is highest - lowest price each day\n",
    "df['spread'] = df['highest'] - df['lowest']\n",
    "\n",
    "# Average spread per item\n",
    "avg_spread = df.groupby('type_id')['spread'].mean().reset_index()\n",
    "avg_spread.columns = ['type_id', 'avg_bid_ask_spread']"
   ]
  },
  {
   "cell_type": "code",
   "execution_count": null,
   "id": "42c00727",
   "metadata": {},
   "outputs": [],
   "source": []
  }
 ],
 "metadata": {
  "language_info": {
   "name": "python"
  }
 },
 "nbformat": 4,
 "nbformat_minor": 5
}
