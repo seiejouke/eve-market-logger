{
 "cells": [
  {
   "cell_type": "code",
   "execution_count": null,
   "id": "9d3409b5",
   "metadata": {},
   "outputs": [
    {
     "data": {
      "application/vnd.jupyter.widget-view+json": {
       "model_id": "7b7be3895cc3484c9904062439e4148f",
       "version_major": 2,
       "version_minor": 0
      },
      "text/plain": [
       "Combobox(value='', continuous_update=False, description='Item:', ensure_option=True, options=(' Tyrant Blue Sa…"
      ]
     },
     "metadata": {},
     "output_type": "display_data"
    }
   ],
   "source": [
    "import pandas as pd\n",
    "import matplotlib.pyplot as plt\n",
    "import ipywidgets as widgets\n",
    "from IPython.display import display, clear_output\n",
    "\n",
    "# Load your data\n",
    "df = pd.read_csv(\n",
    "    r'C:\\Users\\Jouke\\Documents\\evedata-logger\\output\\market_data_with_names_merged.csv',\n",
    "    parse_dates=['date']\n",
    ")\n",
    "\n",
    "item_names = sorted(df['type_name'].unique())\n",
    "item_dropdown = widgets.Combobox(\n",
    "    options=item_names,\n",
    "    placeholder='Type or select an item',\n",
    "    description='Item:',\n",
    "    ensure_option=True,\n",
    "    continuous_update=False\n",
    ")\n",
    "\n",
    "display(item_dropdown)\n"
   ]
  },
  {
   "cell_type": "code",
   "execution_count": 2,
   "id": "e30c5cb5",
   "metadata": {},
   "outputs": [
    {
     "data": {
      "application/vnd.jupyter.widget-view+json": {
       "model_id": "a6264b23c19e45ada50f8c593ae9e23d",
       "version_major": 2,
       "version_minor": 0
      },
      "text/plain": [
       "IntSlider(value=14, continuous_update=False, description='Window (days)', max=60, min=3)"
      ]
     },
     "metadata": {},
     "output_type": "display_data"
    },
    {
     "data": {
      "application/vnd.jupyter.widget-view+json": {
       "model_id": "bd9eb610d63a499ea5e329095c6b5350",
       "version_major": 2,
       "version_minor": 0
      },
      "text/plain": [
       "Output()"
      ]
     },
     "metadata": {},
     "output_type": "display_data"
    },
    {
     "data": {
      "application/vnd.jupyter.widget-view+json": {
       "model_id": "07b8b1da8dc24d0d9b4df098589eaf76",
       "version_major": 2,
       "version_minor": 0
      },
      "text/plain": [
       "Output()"
      ]
     },
     "execution_count": 2,
     "metadata": {},
     "output_type": "execute_result"
    }
   ],
   "source": [
    "output = widgets.Output()\n",
    "vol_window_slider = widgets.IntSlider(\n",
    "    value=14, min=3, max=60, step=1, description='Window (days)', continuous_update=False\n",
    ")\n",
    "display(vol_window_slider, output)\n",
    "\n",
    "def plot_rolling_volatility(item, vol_window):\n",
    "    with output:\n",
    "        clear_output(wait=True)\n",
    "        if not item or item not in df['type_name'].values:\n",
    "            print(\"Please select a valid item.\")\n",
    "            return\n",
    "        item_df = df[df['type_name'] == item].sort_values('date').copy()\n",
    "        item_df['rolling_volatility'] = item_df['average'].rolling(window=vol_window, min_periods=1).std()\n",
    "\n",
    "        print(f\"Showing {vol_window}-day rolling volatility for: {item}\")\n",
    "        plt.figure(figsize=(10,5))\n",
    "        plt.plot(item_df['date'], item_df['rolling_volatility'], color='purple', linewidth=2)\n",
    "        plt.title(f\"{item} — {vol_window}-Day Rolling Volatility\")\n",
    "        plt.xlabel(\"Date\")\n",
    "        plt.ylabel(\"Rolling Std Dev of Price (ISK)\")\n",
    "        plt.grid(True, linestyle=':')\n",
    "        plt.tight_layout()\n",
    "        plt.show()\n",
    "\n",
    "widgets.interactive_output(\n",
    "    plot_rolling_volatility, \n",
    "    {'item': item_dropdown, 'vol_window': vol_window_slider}\n",
    ")\n"
   ]
  }
 ],
 "metadata": {
  "kernelspec": {
   "display_name": ".venv",
   "language": "python",
   "name": "python3"
  },
  "language_info": {
   "codemirror_mode": {
    "name": "ipython",
    "version": 3
   },
   "file_extension": ".py",
   "mimetype": "text/x-python",
   "name": "python",
   "nbconvert_exporter": "python",
   "pygments_lexer": "ipython3",
   "version": "3.13.5"
  }
 },
 "nbformat": 4,
 "nbformat_minor": 5
}
