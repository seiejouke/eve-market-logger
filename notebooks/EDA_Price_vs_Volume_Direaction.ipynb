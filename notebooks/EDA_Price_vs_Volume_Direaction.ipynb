{
 "cells": [
  {
   "cell_type": "code",
   "execution_count": null,
   "id": "fa795570",
   "metadata": {},
   "outputs": [
    {
     "data": {
      "application/vnd.jupyter.widget-view+json": {
       "model_id": "601907742d9f4ed69d8ae155be6555cf",
       "version_major": 2,
       "version_minor": 0
      },
      "text/plain": [
       "Combobox(value='', continuous_update=False, description='Item:', ensure_option=True, options=(' Tyrant Blue Sa…"
      ]
     },
     "metadata": {},
     "output_type": "display_data"
    },
    {
     "data": {
      "application/vnd.jupyter.widget-view+json": {
       "model_id": "4f2c698c2f144ba8857ea010ea6bcccb",
       "version_major": 2,
       "version_minor": 0
      },
      "text/plain": [
       "Output()"
      ]
     },
     "metadata": {},
     "output_type": "display_data"
    }
   ],
   "source": [
    "import pandas as pd\n",
    "import matplotlib.pyplot as plt\n",
    "import ipywidgets as widgets\n",
    "from IPython.display import display, clear_output\n",
    "\n",
    "# Load your data\n",
    "df = pd.read_csv(\n",
    "    r'C:\\Users\\Jouke\\Documents\\evedata-logger\\output\\market_data_with_names_merged.csv',\n",
    "    parse_dates=['date']\n",
    ")\n",
    "\n",
    "item_names = sorted(df['type_name'].unique())\n",
    "\n",
    "item_dropdown = widgets.Combobox(\n",
    "    options=item_names,\n",
    "    placeholder='Type or select an item',\n",
    "    description='Item:',\n",
    "    ensure_option=True,\n",
    "    continuous_update=False\n",
    ")\n",
    "\n",
    "output = widgets.Output()\n",
    "display(item_dropdown, output)\n"
   ]
  },
  {
   "cell_type": "code",
   "execution_count": 2,
   "id": "4538f9b9",
   "metadata": {},
   "outputs": [
    {
     "data": {
      "application/vnd.jupyter.widget-view+json": {
       "model_id": "64a85d91c2cf4020a8c7695af6bec721",
       "version_major": 2,
       "version_minor": 0
      },
      "text/plain": [
       "Output()"
      ]
     },
     "execution_count": 2,
     "metadata": {},
     "output_type": "execute_result"
    }
   ],
   "source": [
    "def plot_price_vs_volume_enhanced(item):\n",
    "    with output:\n",
    "        clear_output(wait=True)\n",
    "        if not item or item not in df['type_name'].values:\n",
    "            print(\"Please select a valid item.\")\n",
    "            return\n",
    "        item_df = df[df['type_name'] == item].sort_values('date').copy()\n",
    "        print(f\"Loaded {len(item_df)} days for: {item}\")\n",
    "\n",
    "        # Calculate price change direction\n",
    "        item_df['price_change'] = item_df['average'].diff()\n",
    "        colors = item_df['price_change'].apply(\n",
    "            lambda x: 'green' if x > 0 else ('red' if x < 0 else 'gray')\n",
    "        )\n",
    "\n",
    "        # Mark top 5% volume days (spikes)\n",
    "        threshold = item_df['volume'].quantile(0.95)\n",
    "        outlier_days = item_df[item_df['volume'] >= threshold]\n",
    "\n",
    "        plt.figure(figsize=(9, 6))\n",
    "        plt.scatter(item_df['average'], item_df['volume'], c=colors, alpha=0.7, label='All days')\n",
    "        plt.scatter(\n",
    "            outlier_days['average'], outlier_days['volume'],\n",
    "            edgecolors='black', facecolors='none', s=120, linewidths=1.5, label='Volume Spike'\n",
    "        )\n",
    "        plt.title(f\"{item} — Price vs. Volume\\n(Green=up day, Red=down day, Black ring=volume spike)\")\n",
    "        plt.xlabel(\"Average Price (ISK)\")\n",
    "        plt.ylabel(\"Daily Volume\")\n",
    "        plt.legend()\n",
    "        plt.grid(True, linestyle=':')\n",
    "        plt.tight_layout()\n",
    "        plt.show()\n",
    "\n",
    "widgets.interactive_output(plot_price_vs_volume_enhanced, {'item': item_dropdown})\n"
   ]
  },
  {
   "cell_type": "code",
   "execution_count": 3,
   "id": "11c05893",
   "metadata": {},
   "outputs": [
    {
     "data": {
      "text/markdown": [
       "**Please select a valid item.**"
      ],
      "text/plain": [
       "<IPython.core.display.Markdown object>"
      ]
     },
     "metadata": {},
     "output_type": "display_data"
    }
   ],
   "source": [
    "from IPython.display import Markdown as md, display\n",
    "\n",
    "def summarize_price_volume(item):\n",
    "    if not item or item not in df['type_name'].values:\n",
    "        display(md(\"**Please select a valid item.**\"))\n",
    "        return\n",
    "    item_df = df[df['type_name'] == item].sort_values('date').copy()\n",
    "    item_df['price_change'] = item_df['average'].diff()\n",
    "    threshold = item_df['volume'].quantile(0.95)\n",
    "    outlier_days = item_df[item_df['volume'] >= threshold]\n",
    "\n",
    "    # How many up vs. down days in spikes?\n",
    "    up_spikes = outlier_days['price_change'] > 0\n",
    "    down_spikes = outlier_days['price_change'] < 0\n",
    "\n",
    "    # Overall price-volume correlation\n",
    "    corr = item_df['average'].corr(item_df['volume'])\n",
    "    corr_desc = (\n",
    "        \"positive\" if corr > 0.15 else\n",
    "        \"negative\" if corr < -0.15 else\n",
    "        \"weak\"\n",
    "    )\n",
    "\n",
    "    # Generate human-friendly insight\n",
    "    insight = f\"\"\"\n",
    "### Price vs. Volume Summary for **{item}**\n",
    "- **Price/volume correlation:** *{corr_desc}* ({corr:.2f})\n",
    "- **High volume spikes (top 5% days):** {len(outlier_days)}\n",
    "    - **With price up:** {up_spikes.sum()}\n",
    "    - **With price down:** {down_spikes.sum()}\n",
    "- **Typical pattern:** {\"High volume on up-days (bullish, confirms strong rallies).\" if up_spikes.sum() > down_spikes.sum() else \"High volume on down-days (bearish, strong sell pressure).\" if down_spikes.sum() > up_spikes.sum() else \"Volume spikes split evenly between up and down days.\"}\n",
    "- **Interpretation:** {(\n",
    "    \"Large rallies tend to be supported by strong trading volume, suggesting robust demand.\"\n",
    "    if up_spikes.sum() > down_spikes.sum() else\n",
    "    \"Major sell-offs coincide with heavy volume, indicating panic or aggressive selling.\"\n",
    "    if down_spikes.sum() > up_spikes.sum() else\n",
    "    \"Volume spikes do not clearly confirm either buying or selling dominance—watch for other signals.\"\n",
    ")}\n",
    "\"\"\"\n",
    "    display(md(insight))\n",
    "\n",
    "# Run this after you select an item!\n",
    "summarize_price_volume(item_dropdown.value)\n"
   ]
  }
 ],
 "metadata": {
  "kernelspec": {
   "display_name": ".venv",
   "language": "python",
   "name": "python3"
  },
  "language_info": {
   "codemirror_mode": {
    "name": "ipython",
    "version": 3
   },
   "file_extension": ".py",
   "mimetype": "text/x-python",
   "name": "python",
   "nbconvert_exporter": "python",
   "pygments_lexer": "ipython3",
   "version": "3.13.5"
  }
 },
 "nbformat": 4,
 "nbformat_minor": 5
}
