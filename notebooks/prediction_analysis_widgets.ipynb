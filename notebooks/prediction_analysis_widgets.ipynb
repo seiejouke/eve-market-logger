{
 "cells": [
  {
   "cell_type": "code",
   "execution_count": 1,
   "id": "208b8179",
   "metadata": {},
   "outputs": [],
   "source": [
    "import pandas as pd\n",
    "import matplotlib.pyplot as plt\n",
    "import ipywidgets as widgets\n",
    "from IPython.display import display\n",
    "from sklearn.linear_model import LinearRegression\n",
    "from sklearn.metrics import mean_absolute_error, r2_score\n",
    "from ipywidgets import interact"
   ]
  },
  {
   "cell_type": "code",
   "execution_count": 2,
   "id": "e4c8ecc7",
   "metadata": {},
   "outputs": [],
   "source": [
    "# Load your data\n",
    "df = pd.read_csv(r'C:\\Users\\Jouke\\Documents\\evedata-logger\\output\\market_data_with_names_merged.csv', parse_dates=['date'])"
   ]
  },
  {
   "cell_type": "code",
   "execution_count": null,
   "id": "e75119c8",
   "metadata": {},
   "outputs": [
    {
     "data": {
      "application/vnd.jupyter.widget-view+json": {
       "model_id": "f52bb0070d9e4369b374c5399231851b",
       "version_major": 2,
       "version_minor": 0
      },
      "text/plain": [
       "Combobox(value='', continuous_update=False, description='Item:', ensure_option=True, layout=Layout(width='400p…"
      ]
     },
     "metadata": {},
     "output_type": "display_data"
    }
   ],
   "source": [
    "# Prepare item names for the combobox\n",
    "item_names = sorted(df['type_name'].dropna().astype(str).unique())\n",
    "combobox = widgets.Combobox(\n",
    "    options=item_names,\n",
    "    placeholder='Search item',\n",
    "    description='Item:',\n",
    "    ensure_option=True,\n",
    "    continuous_update=False,\n",
    "    style={'description_width': 'initial'},\n",
    "    layout=widgets.Layout(width='400px')\n",
    ")\n",
    "display(combobox)"
   ]
  },
  {
   "cell_type": "code",
   "execution_count": null,
   "id": "758ea448",
   "metadata": {},
   "outputs": [
    {
     "data": {
      "application/vnd.jupyter.widget-view+json": {
       "model_id": "a95501d38a694894a6514cd920882a29",
       "version_major": 2,
       "version_minor": 0
      },
      "text/plain": [
       "interactive(children=(Combobox(value='', continuous_update=False, description='Item:', ensure_option=True, lay…"
      ]
     },
     "metadata": {},
     "output_type": "display_data"
    },
    {
     "data": {
      "text/plain": [
       "<function __main__.predict_and_plot(selected_item)>"
      ]
     },
     "execution_count": 4,
     "metadata": {},
     "output_type": "execute_result"
    }
   ],
   "source": [
    "def predict_and_plot(selected_item):\n",
    "    # Filter and sort\n",
    "    df_item = df[df['type_name'] == selected_item].copy()\n",
    "    df_item = df_item.sort_values('date').reset_index(drop=True)\n",
    "    df_item['next_avg'] = df_item['average'].shift(-1)\n",
    "    df_item['delta'] = df_item['next_avg'] - df_item['average']\n",
    "    df_item = df_item.dropna(subset=['next_avg', 'delta'])\n",
    "\n",
    "    if len(df_item) < 10:\n",
    "        print(\"Not enough data for this item!\")\n",
    "        return\n",
    "\n",
    "    features = ['average', 'highest', 'lowest', 'volume']\n",
    "    X = df_item[features]\n",
    "    y_price = df_item['next_avg']\n",
    "    y_delta = df_item['delta']\n",
    "\n",
    "    split_idx = int(len(df_item) * 0.8)\n",
    "    X_train, X_test = X.iloc[:split_idx], X.iloc[split_idx:]\n",
    "    y_price_train, y_price_test = y_price.iloc[:split_idx], y_price.iloc[split_idx:]\n",
    "    y_delta_train, y_delta_test = y_delta.iloc[:split_idx], y_delta.iloc[split_idx:]\n",
    "\n",
    "    # Linear Regression for next day's price\n",
    "    model_price = LinearRegression()\n",
    "    model_price.fit(X_train, y_price_train)\n",
    "    y_price_pred = model_price.predict(X_test)\n",
    "\n",
    "    # Linear Regression for delta (change)\n",
    "    model_delta = LinearRegression()\n",
    "    model_delta.fit(X_train, y_delta_train)\n",
    "    y_delta_pred = model_delta.predict(X_test)\n",
    "\n",
    "    # Naive baseline: tomorrow = today\n",
    "    y_naive = X_test['average'].values\n",
    "\n",
    "    # Metrics for price prediction\n",
    "    price_mae = mean_absolute_error(y_price_test, y_price_pred)\n",
    "    price_r2 = r2_score(y_price_test, y_price_pred)\n",
    "    naive_mae = mean_absolute_error(y_price_test, y_naive)\n",
    "    naive_r2 = r2_score(y_price_test, y_naive)\n",
    "\n",
    "    # Metrics for delta prediction (price change)\n",
    "    delta_mae = mean_absolute_error(y_delta_test, y_delta_pred)\n",
    "    delta_r2 = r2_score(y_delta_test, y_delta_pred)\n",
    "    naive_delta = [0] * len(y_delta_test)  # Naive prediction: no change\n",
    "    naive_delta_mae = mean_absolute_error(y_delta_test, naive_delta)\n",
    "    naive_delta_r2 = r2_score(y_delta_test, naive_delta)\n",
    "\n",
    "    # Plot price prediction\n",
    "    plt.figure(figsize=(14, 5))\n",
    "    plt.plot(y_price_test.index, y_price_test, label='Actual Next Avg Price', marker='o')\n",
    "    plt.plot(y_price_test.index, y_price_pred, label='Predicted Next Avg Price', marker='x')\n",
    "    plt.plot(y_price_test.index, y_naive, label='Naive Prediction (today)', linestyle='dashed', marker='.')\n",
    "    plt.xlabel('Test Set Index')\n",
    "    plt.ylabel('Average Price')\n",
    "    plt.title(f'Next Day Price Prediction: {selected_item}')\n",
    "    plt.legend()\n",
    "    plt.show()\n",
    "\n",
    "    print(f\"\\033[1mNext-Day Price Prediction (Regression)\\033[0m\")\n",
    "    print(f\"Mean Absolute Error: {price_mae:.2f}\")\n",
    "    print(f\"R2 Score: {price_r2:.4f}\")\n",
    "    print(f\"\\n\\033[1mNaive Baseline (Next=Today)\\033[0m\")\n",
    "    print(f\"Mean Absolute Error: {naive_mae:.2f}\")\n",
    "    print(f\"R2 Score: {naive_r2:.4f}\")\n",
    "\n",
    "    # Plot delta prediction\n",
    "    plt.figure(figsize=(14, 5))\n",
    "    plt.plot(y_delta_test.index, y_delta_test, label='Actual Delta', marker='o')\n",
    "    plt.plot(y_delta_test.index, y_delta_pred, label='Predicted Delta', marker='x')\n",
    "    plt.plot(y_delta_test.index, naive_delta, label='Naive Prediction (no change)', linestyle='dashed', marker='.')\n",
    "    plt.xlabel('Test Set Index')\n",
    "    plt.ylabel('Price Change (Delta)')\n",
    "    plt.title(f'Next Day Price Change Prediction (Delta): {selected_item}')\n",
    "    plt.legend()\n",
    "    plt.show()\n",
    "\n",
    "    print(f\"\\n\\033[1mNext-Day Delta Prediction (Regression)\\033[0m\")\n",
    "    print(f\"Mean Absolute Error: {delta_mae:.2f}\")\n",
    "    print(f\"R2 Score: {delta_r2:.4f}\")\n",
    "    print(f\"\\n\\033[1mNaive Baseline (Delta=0)\\033[0m\")\n",
    "    print(f\"Mean Absolute Error: {naive_delta_mae:.2f}\")\n",
    "    print(f\"R2 Score: {naive_delta_r2:.4f}\")\n",
    "\n",
    "    # Comparison table for first 10 test predictions\n",
    "    comp = pd.DataFrame({\n",
    "        'Actual Price': y_price_test.values,\n",
    "        'Pred Price': y_price_pred,\n",
    "        'Naive': y_naive,\n",
    "        'Actual Delta': y_delta_test.values,\n",
    "        'Pred Delta': y_delta_pred,\n",
    "        'Naive Delta': naive_delta\n",
    "    }, index=y_price_test.index)\n",
    "    display(comp.head(10))\n",
    "\n",
    "# Interactive selection\n",
    "interact(predict_and_plot, selected_item=combobox)"
   ]
  }
 ],
 "metadata": {
  "kernelspec": {
   "display_name": ".venv",
   "language": "python",
   "name": "python3"
  },
  "language_info": {
   "codemirror_mode": {
    "name": "ipython",
    "version": 3
   },
   "file_extension": ".py",
   "mimetype": "text/x-python",
   "name": "python",
   "nbconvert_exporter": "python",
   "pygments_lexer": "ipython3",
   "version": "3.13.5"
  }
 },
 "nbformat": 4,
 "nbformat_minor": 5
}
